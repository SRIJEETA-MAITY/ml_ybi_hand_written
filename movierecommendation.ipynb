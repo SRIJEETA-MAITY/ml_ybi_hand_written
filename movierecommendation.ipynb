{
  "nbformat": 4,
  "nbformat_minor": 0,
  "metadata": {
    "colab": {
      "provenance": [],
      "authorship_tag": "ABX9TyPSWWiHTiT1enQ/ZDuMSIJj",
      "include_colab_link": true
    },
    "kernelspec": {
      "name": "python3",
      "display_name": "Python 3"
    },
    "language_info": {
      "name": "python"
    }
  },
  "cells": [
    {
      "cell_type": "markdown",
      "metadata": {
        "id": "view-in-github",
        "colab_type": "text"
      },
      "source": [
        "<a href=\"https://colab.research.google.com/github/SRIJEETA-MAITY/ml_ybi_hand_written/blob/main/movierecommendation.ipynb\" target=\"_parent\"><img src=\"https://colab.research.google.com/assets/colab-badge.svg\" alt=\"Open In Colab\"/></a>"
      ]
    },
    {
      "cell_type": "code",
      "execution_count": 39,
      "metadata": {
        "id": "FZSW94QMqP-S"
      },
      "outputs": [],
      "source": [
        "import numpy as np\n",
        "import pandas as pd"
      ]
    },
    {
      "cell_type": "code",
      "source": [
        "df = pd.read_csv(r'https://raw.githubusercontent.com/YBI-Foundation/Dataset/main/Movies%20Recommendation.csv')"
      ],
      "metadata": {
        "id": "D6RLQOGjrltt"
      },
      "execution_count": 40,
      "outputs": []
    },
    {
      "cell_type": "code",
      "source": [
        "df.head()"
      ],
      "metadata": {
        "colab": {
          "base_uri": "https://localhost:8080/",
          "height": 672
        },
        "id": "e-D-KIWmrpfH",
        "outputId": "8382009d-a64c-4169-bdbd-bf82c4e296b4"
      },
      "execution_count": 41,
      "outputs": [
        {
          "output_type": "execute_result",
          "data": {
            "text/plain": [
              "   Movie_ID      Movie_Title                       Movie_Genre Movie_Language  \\\n",
              "0         1       Four Rooms                      Crime Comedy             en   \n",
              "1         2        Star Wars  Adventure Action Science Fiction             en   \n",
              "2         3     Finding Nemo                  Animation Family             en   \n",
              "3         4     Forrest Gump              Comedy Drama Romance             en   \n",
              "4         5  American Beauty                             Drama             en   \n",
              "\n",
              "   Movie_Budget  Movie_Popularity Movie_Release_Date  Movie_Revenue  \\\n",
              "0       4000000         22.876230         09-12-1995        4300000   \n",
              "1      11000000        126.393695         25-05-1977      775398007   \n",
              "2      94000000         85.688789         30-05-2003      940335536   \n",
              "3      55000000        138.133331         06-07-1994      677945399   \n",
              "4      15000000         80.878605         15-09-1999      356296601   \n",
              "\n",
              "   Movie_Runtime  Movie_Vote  ...  \\\n",
              "0           98.0         6.5  ...   \n",
              "1          121.0         8.1  ...   \n",
              "2          100.0         7.6  ...   \n",
              "3          142.0         8.2  ...   \n",
              "4          122.0         7.9  ...   \n",
              "\n",
              "                                      Movie_Homepage  \\\n",
              "0                                                NaN   \n",
              "1  http://www.starwars.com/films/star-wars-episod...   \n",
              "2              http://movies.disney.com/finding-nemo   \n",
              "3                                                NaN   \n",
              "4                      http://www.dreamworks.com/ab/   \n",
              "\n",
              "                                      Movie_Keywords  \\\n",
              "0          hotel new year's eve witch bet hotel room   \n",
              "1        android galaxy hermit death star lightsaber   \n",
              "2  father son relationship harbor underwater fish...   \n",
              "3  vietnam veteran hippie mentally disabled runni...   \n",
              "4  male nudity female nudity adultery midlife cri...   \n",
              "\n",
              "                                      Movie_Overview  \\\n",
              "0  It's Ted the Bellhop's first night on the job....   \n",
              "1  Princess Leia is captured and held hostage by ...   \n",
              "2  Nemo, an adventurous young clownfish, is unexp...   \n",
              "3  A man with a low IQ has accomplished great thi...   \n",
              "4  Lester Burnham, a depressed suburban father in...   \n",
              "\n",
              "                              Movie_Production_House  \\\n",
              "0  [{\"name\": \"Miramax Films\", \"id\": 14}, {\"name\":...   \n",
              "1  [{\"name\": \"Lucasfilm\", \"id\": 1}, {\"name\": \"Twe...   \n",
              "2     [{\"name\": \"Pixar Animation Studios\", \"id\": 3}]   \n",
              "3          [{\"name\": \"Paramount Pictures\", \"id\": 4}]   \n",
              "4  [{\"name\": \"DreamWorks SKG\", \"id\": 27}, {\"name\"...   \n",
              "\n",
              "                            Movie_Production_Country  \\\n",
              "0  [{\"iso_3166_1\": \"US\", \"name\": \"United States o...   \n",
              "1  [{\"iso_3166_1\": \"US\", \"name\": \"United States o...   \n",
              "2  [{\"iso_3166_1\": \"US\", \"name\": \"United States o...   \n",
              "3  [{\"iso_3166_1\": \"US\", \"name\": \"United States o...   \n",
              "4  [{\"iso_3166_1\": \"US\", \"name\": \"United States o...   \n",
              "\n",
              "                      Movie_Spoken_Language  \\\n",
              "0  [{\"iso_639_1\": \"en\", \"name\": \"English\"}]   \n",
              "1  [{\"iso_639_1\": \"en\", \"name\": \"English\"}]   \n",
              "2  [{\"iso_639_1\": \"en\", \"name\": \"English\"}]   \n",
              "3  [{\"iso_639_1\": \"en\", \"name\": \"English\"}]   \n",
              "4  [{\"iso_639_1\": \"en\", \"name\": \"English\"}]   \n",
              "\n",
              "                                       Movie_Tagline  \\\n",
              "0  Twelve outrageous guests. Four scandalous requ...   \n",
              "1       A long time ago in a galaxy far, far away...   \n",
              "2  There are 3.7 trillion fish in the ocean, they...   \n",
              "3  The world will never be the same, once you've ...   \n",
              "4                                       Look closer.   \n",
              "\n",
              "                                          Movie_Cast  \\\n",
              "0  Tim Roth Antonio Banderas Jennifer Beals Madon...   \n",
              "1  Mark Hamill Harrison Ford Carrie Fisher Peter ...   \n",
              "2  Albert Brooks Ellen DeGeneres Alexander Gould ...   \n",
              "3  Tom Hanks Robin Wright Gary Sinise Mykelti Wil...   \n",
              "4  Kevin Spacey Annette Bening Thora Birch Wes Be...   \n",
              "\n",
              "                                          Movie_Crew   Movie_Director  \n",
              "0  [{'name': 'Allison Anders', 'gender': 1, 'depa...   Allison Anders  \n",
              "1  [{'name': 'George Lucas', 'gender': 2, 'depart...     George Lucas  \n",
              "2  [{'name': 'Andrew Stanton', 'gender': 2, 'depa...   Andrew Stanton  \n",
              "3  [{'name': 'Alan Silvestri', 'gender': 2, 'depa...  Robert Zemeckis  \n",
              "4  [{'name': 'Thomas Newman', 'gender': 2, 'depar...       Sam Mendes  \n",
              "\n",
              "[5 rows x 21 columns]"
            ],
            "text/html": [
              "\n",
              "  <div id=\"df-808a4dff-94bf-4fb8-a0a3-2570615ef1af\" class=\"colab-df-container\">\n",
              "    <div>\n",
              "<style scoped>\n",
              "    .dataframe tbody tr th:only-of-type {\n",
              "        vertical-align: middle;\n",
              "    }\n",
              "\n",
              "    .dataframe tbody tr th {\n",
              "        vertical-align: top;\n",
              "    }\n",
              "\n",
              "    .dataframe thead th {\n",
              "        text-align: right;\n",
              "    }\n",
              "</style>\n",
              "<table border=\"1\" class=\"dataframe\">\n",
              "  <thead>\n",
              "    <tr style=\"text-align: right;\">\n",
              "      <th></th>\n",
              "      <th>Movie_ID</th>\n",
              "      <th>Movie_Title</th>\n",
              "      <th>Movie_Genre</th>\n",
              "      <th>Movie_Language</th>\n",
              "      <th>Movie_Budget</th>\n",
              "      <th>Movie_Popularity</th>\n",
              "      <th>Movie_Release_Date</th>\n",
              "      <th>Movie_Revenue</th>\n",
              "      <th>Movie_Runtime</th>\n",
              "      <th>Movie_Vote</th>\n",
              "      <th>...</th>\n",
              "      <th>Movie_Homepage</th>\n",
              "      <th>Movie_Keywords</th>\n",
              "      <th>Movie_Overview</th>\n",
              "      <th>Movie_Production_House</th>\n",
              "      <th>Movie_Production_Country</th>\n",
              "      <th>Movie_Spoken_Language</th>\n",
              "      <th>Movie_Tagline</th>\n",
              "      <th>Movie_Cast</th>\n",
              "      <th>Movie_Crew</th>\n",
              "      <th>Movie_Director</th>\n",
              "    </tr>\n",
              "  </thead>\n",
              "  <tbody>\n",
              "    <tr>\n",
              "      <th>0</th>\n",
              "      <td>1</td>\n",
              "      <td>Four Rooms</td>\n",
              "      <td>Crime Comedy</td>\n",
              "      <td>en</td>\n",
              "      <td>4000000</td>\n",
              "      <td>22.876230</td>\n",
              "      <td>09-12-1995</td>\n",
              "      <td>4300000</td>\n",
              "      <td>98.0</td>\n",
              "      <td>6.5</td>\n",
              "      <td>...</td>\n",
              "      <td>NaN</td>\n",
              "      <td>hotel new year's eve witch bet hotel room</td>\n",
              "      <td>It's Ted the Bellhop's first night on the job....</td>\n",
              "      <td>[{\"name\": \"Miramax Films\", \"id\": 14}, {\"name\":...</td>\n",
              "      <td>[{\"iso_3166_1\": \"US\", \"name\": \"United States o...</td>\n",
              "      <td>[{\"iso_639_1\": \"en\", \"name\": \"English\"}]</td>\n",
              "      <td>Twelve outrageous guests. Four scandalous requ...</td>\n",
              "      <td>Tim Roth Antonio Banderas Jennifer Beals Madon...</td>\n",
              "      <td>[{'name': 'Allison Anders', 'gender': 1, 'depa...</td>\n",
              "      <td>Allison Anders</td>\n",
              "    </tr>\n",
              "    <tr>\n",
              "      <th>1</th>\n",
              "      <td>2</td>\n",
              "      <td>Star Wars</td>\n",
              "      <td>Adventure Action Science Fiction</td>\n",
              "      <td>en</td>\n",
              "      <td>11000000</td>\n",
              "      <td>126.393695</td>\n",
              "      <td>25-05-1977</td>\n",
              "      <td>775398007</td>\n",
              "      <td>121.0</td>\n",
              "      <td>8.1</td>\n",
              "      <td>...</td>\n",
              "      <td>http://www.starwars.com/films/star-wars-episod...</td>\n",
              "      <td>android galaxy hermit death star lightsaber</td>\n",
              "      <td>Princess Leia is captured and held hostage by ...</td>\n",
              "      <td>[{\"name\": \"Lucasfilm\", \"id\": 1}, {\"name\": \"Twe...</td>\n",
              "      <td>[{\"iso_3166_1\": \"US\", \"name\": \"United States o...</td>\n",
              "      <td>[{\"iso_639_1\": \"en\", \"name\": \"English\"}]</td>\n",
              "      <td>A long time ago in a galaxy far, far away...</td>\n",
              "      <td>Mark Hamill Harrison Ford Carrie Fisher Peter ...</td>\n",
              "      <td>[{'name': 'George Lucas', 'gender': 2, 'depart...</td>\n",
              "      <td>George Lucas</td>\n",
              "    </tr>\n",
              "    <tr>\n",
              "      <th>2</th>\n",
              "      <td>3</td>\n",
              "      <td>Finding Nemo</td>\n",
              "      <td>Animation Family</td>\n",
              "      <td>en</td>\n",
              "      <td>94000000</td>\n",
              "      <td>85.688789</td>\n",
              "      <td>30-05-2003</td>\n",
              "      <td>940335536</td>\n",
              "      <td>100.0</td>\n",
              "      <td>7.6</td>\n",
              "      <td>...</td>\n",
              "      <td>http://movies.disney.com/finding-nemo</td>\n",
              "      <td>father son relationship harbor underwater fish...</td>\n",
              "      <td>Nemo, an adventurous young clownfish, is unexp...</td>\n",
              "      <td>[{\"name\": \"Pixar Animation Studios\", \"id\": 3}]</td>\n",
              "      <td>[{\"iso_3166_1\": \"US\", \"name\": \"United States o...</td>\n",
              "      <td>[{\"iso_639_1\": \"en\", \"name\": \"English\"}]</td>\n",
              "      <td>There are 3.7 trillion fish in the ocean, they...</td>\n",
              "      <td>Albert Brooks Ellen DeGeneres Alexander Gould ...</td>\n",
              "      <td>[{'name': 'Andrew Stanton', 'gender': 2, 'depa...</td>\n",
              "      <td>Andrew Stanton</td>\n",
              "    </tr>\n",
              "    <tr>\n",
              "      <th>3</th>\n",
              "      <td>4</td>\n",
              "      <td>Forrest Gump</td>\n",
              "      <td>Comedy Drama Romance</td>\n",
              "      <td>en</td>\n",
              "      <td>55000000</td>\n",
              "      <td>138.133331</td>\n",
              "      <td>06-07-1994</td>\n",
              "      <td>677945399</td>\n",
              "      <td>142.0</td>\n",
              "      <td>8.2</td>\n",
              "      <td>...</td>\n",
              "      <td>NaN</td>\n",
              "      <td>vietnam veteran hippie mentally disabled runni...</td>\n",
              "      <td>A man with a low IQ has accomplished great thi...</td>\n",
              "      <td>[{\"name\": \"Paramount Pictures\", \"id\": 4}]</td>\n",
              "      <td>[{\"iso_3166_1\": \"US\", \"name\": \"United States o...</td>\n",
              "      <td>[{\"iso_639_1\": \"en\", \"name\": \"English\"}]</td>\n",
              "      <td>The world will never be the same, once you've ...</td>\n",
              "      <td>Tom Hanks Robin Wright Gary Sinise Mykelti Wil...</td>\n",
              "      <td>[{'name': 'Alan Silvestri', 'gender': 2, 'depa...</td>\n",
              "      <td>Robert Zemeckis</td>\n",
              "    </tr>\n",
              "    <tr>\n",
              "      <th>4</th>\n",
              "      <td>5</td>\n",
              "      <td>American Beauty</td>\n",
              "      <td>Drama</td>\n",
              "      <td>en</td>\n",
              "      <td>15000000</td>\n",
              "      <td>80.878605</td>\n",
              "      <td>15-09-1999</td>\n",
              "      <td>356296601</td>\n",
              "      <td>122.0</td>\n",
              "      <td>7.9</td>\n",
              "      <td>...</td>\n",
              "      <td>http://www.dreamworks.com/ab/</td>\n",
              "      <td>male nudity female nudity adultery midlife cri...</td>\n",
              "      <td>Lester Burnham, a depressed suburban father in...</td>\n",
              "      <td>[{\"name\": \"DreamWorks SKG\", \"id\": 27}, {\"name\"...</td>\n",
              "      <td>[{\"iso_3166_1\": \"US\", \"name\": \"United States o...</td>\n",
              "      <td>[{\"iso_639_1\": \"en\", \"name\": \"English\"}]</td>\n",
              "      <td>Look closer.</td>\n",
              "      <td>Kevin Spacey Annette Bening Thora Birch Wes Be...</td>\n",
              "      <td>[{'name': 'Thomas Newman', 'gender': 2, 'depar...</td>\n",
              "      <td>Sam Mendes</td>\n",
              "    </tr>\n",
              "  </tbody>\n",
              "</table>\n",
              "<p>5 rows × 21 columns</p>\n",
              "</div>\n",
              "    <div class=\"colab-df-buttons\">\n",
              "\n",
              "  <div class=\"colab-df-container\">\n",
              "    <button class=\"colab-df-convert\" onclick=\"convertToInteractive('df-808a4dff-94bf-4fb8-a0a3-2570615ef1af')\"\n",
              "            title=\"Convert this dataframe to an interactive table.\"\n",
              "            style=\"display:none;\">\n",
              "\n",
              "  <svg xmlns=\"http://www.w3.org/2000/svg\" height=\"24px\" viewBox=\"0 -960 960 960\">\n",
              "    <path d=\"M120-120v-720h720v720H120Zm60-500h600v-160H180v160Zm220 220h160v-160H400v160Zm0 220h160v-160H400v160ZM180-400h160v-160H180v160Zm440 0h160v-160H620v160ZM180-180h160v-160H180v160Zm440 0h160v-160H620v160Z\"/>\n",
              "  </svg>\n",
              "    </button>\n",
              "\n",
              "  <style>\n",
              "    .colab-df-container {\n",
              "      display:flex;\n",
              "      gap: 12px;\n",
              "    }\n",
              "\n",
              "    .colab-df-convert {\n",
              "      background-color: #E8F0FE;\n",
              "      border: none;\n",
              "      border-radius: 50%;\n",
              "      cursor: pointer;\n",
              "      display: none;\n",
              "      fill: #1967D2;\n",
              "      height: 32px;\n",
              "      padding: 0 0 0 0;\n",
              "      width: 32px;\n",
              "    }\n",
              "\n",
              "    .colab-df-convert:hover {\n",
              "      background-color: #E2EBFA;\n",
              "      box-shadow: 0px 1px 2px rgba(60, 64, 67, 0.3), 0px 1px 3px 1px rgba(60, 64, 67, 0.15);\n",
              "      fill: #174EA6;\n",
              "    }\n",
              "\n",
              "    .colab-df-buttons div {\n",
              "      margin-bottom: 4px;\n",
              "    }\n",
              "\n",
              "    [theme=dark] .colab-df-convert {\n",
              "      background-color: #3B4455;\n",
              "      fill: #D2E3FC;\n",
              "    }\n",
              "\n",
              "    [theme=dark] .colab-df-convert:hover {\n",
              "      background-color: #434B5C;\n",
              "      box-shadow: 0px 1px 3px 1px rgba(0, 0, 0, 0.15);\n",
              "      filter: drop-shadow(0px 1px 2px rgba(0, 0, 0, 0.3));\n",
              "      fill: #FFFFFF;\n",
              "    }\n",
              "  </style>\n",
              "\n",
              "    <script>\n",
              "      const buttonEl =\n",
              "        document.querySelector('#df-808a4dff-94bf-4fb8-a0a3-2570615ef1af button.colab-df-convert');\n",
              "      buttonEl.style.display =\n",
              "        google.colab.kernel.accessAllowed ? 'block' : 'none';\n",
              "\n",
              "      async function convertToInteractive(key) {\n",
              "        const element = document.querySelector('#df-808a4dff-94bf-4fb8-a0a3-2570615ef1af');\n",
              "        const dataTable =\n",
              "          await google.colab.kernel.invokeFunction('convertToInteractive',\n",
              "                                                    [key], {});\n",
              "        if (!dataTable) return;\n",
              "\n",
              "        const docLinkHtml = 'Like what you see? Visit the ' +\n",
              "          '<a target=\"_blank\" href=https://colab.research.google.com/notebooks/data_table.ipynb>data table notebook</a>'\n",
              "          + ' to learn more about interactive tables.';\n",
              "        element.innerHTML = '';\n",
              "        dataTable['output_type'] = 'display_data';\n",
              "        await google.colab.output.renderOutput(dataTable, element);\n",
              "        const docLink = document.createElement('div');\n",
              "        docLink.innerHTML = docLinkHtml;\n",
              "        element.appendChild(docLink);\n",
              "      }\n",
              "    </script>\n",
              "  </div>\n",
              "\n",
              "\n",
              "<div id=\"df-5c43b49a-5790-49ad-88b8-573ae4744fa4\">\n",
              "  <button class=\"colab-df-quickchart\" onclick=\"quickchart('df-5c43b49a-5790-49ad-88b8-573ae4744fa4')\"\n",
              "            title=\"Suggest charts\"\n",
              "            style=\"display:none;\">\n",
              "\n",
              "<svg xmlns=\"http://www.w3.org/2000/svg\" height=\"24px\"viewBox=\"0 0 24 24\"\n",
              "     width=\"24px\">\n",
              "    <g>\n",
              "        <path d=\"M19 3H5c-1.1 0-2 .9-2 2v14c0 1.1.9 2 2 2h14c1.1 0 2-.9 2-2V5c0-1.1-.9-2-2-2zM9 17H7v-7h2v7zm4 0h-2V7h2v10zm4 0h-2v-4h2v4z\"/>\n",
              "    </g>\n",
              "</svg>\n",
              "  </button>\n",
              "\n",
              "<style>\n",
              "  .colab-df-quickchart {\n",
              "      --bg-color: #E8F0FE;\n",
              "      --fill-color: #1967D2;\n",
              "      --hover-bg-color: #E2EBFA;\n",
              "      --hover-fill-color: #174EA6;\n",
              "      --disabled-fill-color: #AAA;\n",
              "      --disabled-bg-color: #DDD;\n",
              "  }\n",
              "\n",
              "  [theme=dark] .colab-df-quickchart {\n",
              "      --bg-color: #3B4455;\n",
              "      --fill-color: #D2E3FC;\n",
              "      --hover-bg-color: #434B5C;\n",
              "      --hover-fill-color: #FFFFFF;\n",
              "      --disabled-bg-color: #3B4455;\n",
              "      --disabled-fill-color: #666;\n",
              "  }\n",
              "\n",
              "  .colab-df-quickchart {\n",
              "    background-color: var(--bg-color);\n",
              "    border: none;\n",
              "    border-radius: 50%;\n",
              "    cursor: pointer;\n",
              "    display: none;\n",
              "    fill: var(--fill-color);\n",
              "    height: 32px;\n",
              "    padding: 0;\n",
              "    width: 32px;\n",
              "  }\n",
              "\n",
              "  .colab-df-quickchart:hover {\n",
              "    background-color: var(--hover-bg-color);\n",
              "    box-shadow: 0 1px 2px rgba(60, 64, 67, 0.3), 0 1px 3px 1px rgba(60, 64, 67, 0.15);\n",
              "    fill: var(--button-hover-fill-color);\n",
              "  }\n",
              "\n",
              "  .colab-df-quickchart-complete:disabled,\n",
              "  .colab-df-quickchart-complete:disabled:hover {\n",
              "    background-color: var(--disabled-bg-color);\n",
              "    fill: var(--disabled-fill-color);\n",
              "    box-shadow: none;\n",
              "  }\n",
              "\n",
              "  .colab-df-spinner {\n",
              "    border: 2px solid var(--fill-color);\n",
              "    border-color: transparent;\n",
              "    border-bottom-color: var(--fill-color);\n",
              "    animation:\n",
              "      spin 1s steps(1) infinite;\n",
              "  }\n",
              "\n",
              "  @keyframes spin {\n",
              "    0% {\n",
              "      border-color: transparent;\n",
              "      border-bottom-color: var(--fill-color);\n",
              "      border-left-color: var(--fill-color);\n",
              "    }\n",
              "    20% {\n",
              "      border-color: transparent;\n",
              "      border-left-color: var(--fill-color);\n",
              "      border-top-color: var(--fill-color);\n",
              "    }\n",
              "    30% {\n",
              "      border-color: transparent;\n",
              "      border-left-color: var(--fill-color);\n",
              "      border-top-color: var(--fill-color);\n",
              "      border-right-color: var(--fill-color);\n",
              "    }\n",
              "    40% {\n",
              "      border-color: transparent;\n",
              "      border-right-color: var(--fill-color);\n",
              "      border-top-color: var(--fill-color);\n",
              "    }\n",
              "    60% {\n",
              "      border-color: transparent;\n",
              "      border-right-color: var(--fill-color);\n",
              "    }\n",
              "    80% {\n",
              "      border-color: transparent;\n",
              "      border-right-color: var(--fill-color);\n",
              "      border-bottom-color: var(--fill-color);\n",
              "    }\n",
              "    90% {\n",
              "      border-color: transparent;\n",
              "      border-bottom-color: var(--fill-color);\n",
              "    }\n",
              "  }\n",
              "</style>\n",
              "\n",
              "  <script>\n",
              "    async function quickchart(key) {\n",
              "      const quickchartButtonEl =\n",
              "        document.querySelector('#' + key + ' button');\n",
              "      quickchartButtonEl.disabled = true;  // To prevent multiple clicks.\n",
              "      quickchartButtonEl.classList.add('colab-df-spinner');\n",
              "      try {\n",
              "        const charts = await google.colab.kernel.invokeFunction(\n",
              "            'suggestCharts', [key], {});\n",
              "      } catch (error) {\n",
              "        console.error('Error during call to suggestCharts:', error);\n",
              "      }\n",
              "      quickchartButtonEl.classList.remove('colab-df-spinner');\n",
              "      quickchartButtonEl.classList.add('colab-df-quickchart-complete');\n",
              "    }\n",
              "    (() => {\n",
              "      let quickchartButtonEl =\n",
              "        document.querySelector('#df-5c43b49a-5790-49ad-88b8-573ae4744fa4 button');\n",
              "      quickchartButtonEl.style.display =\n",
              "        google.colab.kernel.accessAllowed ? 'block' : 'none';\n",
              "    })();\n",
              "  </script>\n",
              "</div>\n",
              "\n",
              "    </div>\n",
              "  </div>\n"
            ],
            "application/vnd.google.colaboratory.intrinsic+json": {
              "type": "dataframe",
              "variable_name": "df"
            }
          },
          "metadata": {},
          "execution_count": 41
        }
      ]
    },
    {
      "cell_type": "code",
      "source": [
        "df.info()"
      ],
      "metadata": {
        "colab": {
          "base_uri": "https://localhost:8080/"
        },
        "id": "yvgLkugYru8G",
        "outputId": "c8adf3d6-1502-4f73-cb55-405665dc151a"
      },
      "execution_count": 42,
      "outputs": [
        {
          "output_type": "stream",
          "name": "stdout",
          "text": [
            "<class 'pandas.core.frame.DataFrame'>\n",
            "RangeIndex: 4760 entries, 0 to 4759\n",
            "Data columns (total 21 columns):\n",
            " #   Column                    Non-Null Count  Dtype  \n",
            "---  ------                    --------------  -----  \n",
            " 0   Movie_ID                  4760 non-null   int64  \n",
            " 1   Movie_Title               4760 non-null   object \n",
            " 2   Movie_Genre               4760 non-null   object \n",
            " 3   Movie_Language            4760 non-null   object \n",
            " 4   Movie_Budget              4760 non-null   int64  \n",
            " 5   Movie_Popularity          4760 non-null   float64\n",
            " 6   Movie_Release_Date        4760 non-null   object \n",
            " 7   Movie_Revenue             4760 non-null   int64  \n",
            " 8   Movie_Runtime             4758 non-null   float64\n",
            " 9   Movie_Vote                4760 non-null   float64\n",
            " 10  Movie_Vote_Count          4760 non-null   int64  \n",
            " 11  Movie_Homepage            1699 non-null   object \n",
            " 12  Movie_Keywords            4373 non-null   object \n",
            " 13  Movie_Overview            4757 non-null   object \n",
            " 14  Movie_Production_House    4760 non-null   object \n",
            " 15  Movie_Production_Country  4760 non-null   object \n",
            " 16  Movie_Spoken_Language     4760 non-null   object \n",
            " 17  Movie_Tagline             3942 non-null   object \n",
            " 18  Movie_Cast                4733 non-null   object \n",
            " 19  Movie_Crew                4760 non-null   object \n",
            " 20  Movie_Director            4738 non-null   object \n",
            "dtypes: float64(3), int64(4), object(14)\n",
            "memory usage: 781.1+ KB\n"
          ]
        }
      ]
    },
    {
      "cell_type": "code",
      "source": [
        "print(df.shape)\n",
        "\n",
        "print(df.columns)"
      ],
      "metadata": {
        "colab": {
          "base_uri": "https://localhost:8080/"
        },
        "id": "FrzgIfQIr2mA",
        "outputId": "ea64ee21-8b61-4fa3-d449-ccf277d32771"
      },
      "execution_count": 43,
      "outputs": [
        {
          "output_type": "stream",
          "name": "stdout",
          "text": [
            "(4760, 21)\n",
            "Index(['Movie_ID', 'Movie_Title', 'Movie_Genre', 'Movie_Language',\n",
            "       'Movie_Budget', 'Movie_Popularity', 'Movie_Release_Date',\n",
            "       'Movie_Revenue', 'Movie_Runtime', 'Movie_Vote', 'Movie_Vote_Count',\n",
            "       'Movie_Homepage', 'Movie_Keywords', 'Movie_Overview',\n",
            "       'Movie_Production_House', 'Movie_Production_Country',\n",
            "       'Movie_Spoken_Language', 'Movie_Tagline', 'Movie_Cast', 'Movie_Crew',\n",
            "       'Movie_Director'],\n",
            "      dtype='object')\n"
          ]
        }
      ]
    },
    {
      "cell_type": "code",
      "source": [
        "y = df[['Movie_Genre','Movie_Keywords','Movie_Tagline','Movie_Cast','Movie_Director']].fillna('')"
      ],
      "metadata": {
        "id": "MuZE3eGFsaO0"
      },
      "execution_count": 44,
      "outputs": []
    },
    {
      "cell_type": "code",
      "source": [
        "y.shape"
      ],
      "metadata": {
        "colab": {
          "base_uri": "https://localhost:8080/"
        },
        "id": "w9cYvyRMshG-",
        "outputId": "2a18b65a-a4f9-49f6-9a7c-b94e1e653aaf"
      },
      "execution_count": 45,
      "outputs": [
        {
          "output_type": "execute_result",
          "data": {
            "text/plain": [
              "(4760, 5)"
            ]
          },
          "metadata": {},
          "execution_count": 45
        }
      ]
    },
    {
      "cell_type": "code",
      "source": [
        "print(y)"
      ],
      "metadata": {
        "colab": {
          "base_uri": "https://localhost:8080/"
        },
        "id": "7Rgn3e2fsjai",
        "outputId": "ad9b4116-bbab-4ad6-f975-acedea15f839"
      },
      "execution_count": 46,
      "outputs": [
        {
          "output_type": "stream",
          "name": "stdout",
          "text": [
            "                           Movie_Genre  \\\n",
            "0                         Crime Comedy   \n",
            "1     Adventure Action Science Fiction   \n",
            "2                     Animation Family   \n",
            "3                 Comedy Drama Romance   \n",
            "4                                Drama   \n",
            "...                                ...   \n",
            "4755                            Horror   \n",
            "4756               Comedy Family Drama   \n",
            "4757                    Thriller Drama   \n",
            "4758                            Family   \n",
            "4759                       Documentary   \n",
            "\n",
            "                                         Movie_Keywords  \\\n",
            "0             hotel new year's eve witch bet hotel room   \n",
            "1           android galaxy hermit death star lightsaber   \n",
            "2     father son relationship harbor underwater fish...   \n",
            "3     vietnam veteran hippie mentally disabled runni...   \n",
            "4     male nudity female nudity adultery midlife cri...   \n",
            "...                                                 ...   \n",
            "4755                                                      \n",
            "4756                                                      \n",
            "4757                     christian film sex trafficking   \n",
            "4758                                                      \n",
            "4759  music actors legendary perfomer classic hollyw...   \n",
            "\n",
            "                                          Movie_Tagline  \\\n",
            "0     Twelve outrageous guests. Four scandalous requ...   \n",
            "1          A long time ago in a galaxy far, far away...   \n",
            "2     There are 3.7 trillion fish in the ocean, they...   \n",
            "3     The world will never be the same, once you've ...   \n",
            "4                                          Look closer.   \n",
            "...                                                 ...   \n",
            "4755                The hot spot where Satan's waitin'.   \n",
            "4756           It’s better to stand out than to fit in.   \n",
            "4757           She never knew it could happen to her...   \n",
            "4758                                                      \n",
            "4759                                                      \n",
            "\n",
            "                                             Movie_Cast     Movie_Director  \n",
            "0     Tim Roth Antonio Banderas Jennifer Beals Madon...     Allison Anders  \n",
            "1     Mark Hamill Harrison Ford Carrie Fisher Peter ...       George Lucas  \n",
            "2     Albert Brooks Ellen DeGeneres Alexander Gould ...     Andrew Stanton  \n",
            "3     Tom Hanks Robin Wright Gary Sinise Mykelti Wil...    Robert Zemeckis  \n",
            "4     Kevin Spacey Annette Bening Thora Birch Wes Be...         Sam Mendes  \n",
            "...                                                 ...                ...  \n",
            "4755  Lisa Hart Carroll Michael Des Barres Paul Drak...         Pece Dingo  \n",
            "4756  Roni Akurati Brighton Sharbino Jason Lee Anjul...       Frank Lotito  \n",
            "4757  Nicole Smolen Kim Baldwin Ariana Stephens Brys...       Jaco Booyens  \n",
            "4758                                                                        \n",
            "4759                                    Tony Oppedisano  Simon Napier-Bell  \n",
            "\n",
            "[4760 rows x 5 columns]\n"
          ]
        }
      ]
    },
    {
      "cell_type": "code",
      "source": [
        "x=y['Movie_Genre'] + ' ' + y['Movie_Keywords'] + ' ' + y['Movie_Tagline'] + ' ' + y['Movie_Cast'] + ' ' + y['Movie_Director']"
      ],
      "metadata": {
        "id": "8szN3DEls-GN"
      },
      "execution_count": 47,
      "outputs": []
    },
    {
      "cell_type": "code",
      "source": [
        "print(x)"
      ],
      "metadata": {
        "colab": {
          "base_uri": "https://localhost:8080/"
        },
        "id": "vyfkaiRatMt2",
        "outputId": "2ce4c9d4-ecd5-434f-a9e7-3170c971c3cf"
      },
      "execution_count": 48,
      "outputs": [
        {
          "output_type": "stream",
          "name": "stdout",
          "text": [
            "0       Crime Comedy hotel new year's eve witch bet ho...\n",
            "1       Adventure Action Science Fiction android galax...\n",
            "2       Animation Family father son relationship harbo...\n",
            "3       Comedy Drama Romance vietnam veteran hippie me...\n",
            "4       Drama male nudity female nudity adultery midli...\n",
            "                              ...                        \n",
            "4755    Horror  The hot spot where Satan's waitin'. Li...\n",
            "4756    Comedy Family Drama  It’s better to stand out ...\n",
            "4757    Thriller Drama christian film sex trafficking ...\n",
            "4758                                           Family    \n",
            "4759    Documentary music actors legendary perfomer cl...\n",
            "Length: 4760, dtype: object\n"
          ]
        }
      ]
    },
    {
      "cell_type": "code",
      "source": [
        "x.shape"
      ],
      "metadata": {
        "colab": {
          "base_uri": "https://localhost:8080/"
        },
        "id": "2pM0qnEMtPRg",
        "outputId": "e13327fb-1ea7-40f1-cb27-8d9964aee63d"
      },
      "execution_count": 49,
      "outputs": [
        {
          "output_type": "execute_result",
          "data": {
            "text/plain": [
              "(4760,)"
            ]
          },
          "metadata": {},
          "execution_count": 49
        }
      ]
    },
    {
      "cell_type": "markdown",
      "source": [
        "get feature text conversion to tokens"
      ],
      "metadata": {
        "id": "JRS79m2atVh2"
      }
    },
    {
      "cell_type": "code",
      "source": [
        "!pip install numpy==1.21.2\n"
      ],
      "metadata": {
        "colab": {
          "base_uri": "https://localhost:8080/"
        },
        "id": "c9R3bkg5tRWi",
        "outputId": "229560d2-2d50-46b7-d89c-8b06a324d718"
      },
      "execution_count": 50,
      "outputs": [
        {
          "output_type": "stream",
          "name": "stdout",
          "text": [
            "Requirement already satisfied: numpy==1.21.2 in /usr/local/lib/python3.10/dist-packages (1.21.2)\n"
          ]
        }
      ]
    },
    {
      "cell_type": "code",
      "source": [
        "from sklearn.feature_extraction.text import TfidfVectorizer\n"
      ],
      "metadata": {
        "id": "CTsTNdketulV"
      },
      "execution_count": 51,
      "outputs": []
    },
    {
      "cell_type": "code",
      "source": [
        "tfidf=TfidfVectorizer()"
      ],
      "metadata": {
        "id": "d6-zkRzut88S"
      },
      "execution_count": 52,
      "outputs": []
    },
    {
      "cell_type": "code",
      "source": [
        "X=tfidf.fit_transform(x)"
      ],
      "metadata": {
        "id": "UB9ozWI8uhzs"
      },
      "execution_count": 53,
      "outputs": []
    },
    {
      "cell_type": "code",
      "source": [
        "X.shape"
      ],
      "metadata": {
        "colab": {
          "base_uri": "https://localhost:8080/"
        },
        "id": "KKzcxD-Qu0zb",
        "outputId": "97da7cc2-c5ff-4cb8-abe6-a439444644c2"
      },
      "execution_count": 54,
      "outputs": [
        {
          "output_type": "execute_result",
          "data": {
            "text/plain": [
              "(4760, 17258)"
            ]
          },
          "metadata": {},
          "execution_count": 54
        }
      ]
    },
    {
      "cell_type": "code",
      "source": [
        "print(X.shape)"
      ],
      "metadata": {
        "colab": {
          "base_uri": "https://localhost:8080/"
        },
        "id": "w37KJA7cvStz",
        "outputId": "9272db08-065b-4041-d9a9-bfd5a80ef0ba"
      },
      "execution_count": 55,
      "outputs": [
        {
          "output_type": "stream",
          "name": "stdout",
          "text": [
            "(4760, 17258)\n"
          ]
        }
      ]
    },
    {
      "cell_type": "code",
      "source": [
        "print(X)"
      ],
      "metadata": {
        "colab": {
          "base_uri": "https://localhost:8080/"
        },
        "id": "syHkZS2TvVJx",
        "outputId": "b12c3790-e82e-4e8a-8c6f-cd1a400499a9"
      },
      "execution_count": 56,
      "outputs": [
        {
          "output_type": "stream",
          "name": "stdout",
          "text": [
            "  (0, 617)\t0.1633382144407513\n",
            "  (0, 492)\t0.1432591540388685\n",
            "  (0, 15413)\t0.1465525095337543\n",
            "  (0, 9675)\t0.14226057295252661\n",
            "  (0, 9465)\t0.1659841367820977\n",
            "  (0, 1390)\t0.16898383612799558\n",
            "  (0, 7825)\t0.09799561597509843\n",
            "  (0, 1214)\t0.13865857545144072\n",
            "  (0, 729)\t0.13415063359531618\n",
            "  (0, 13093)\t0.1432591540388685\n",
            "  (0, 15355)\t0.10477815972666779\n",
            "  (0, 9048)\t0.0866842116160778\n",
            "  (0, 11161)\t0.06250380151644369\n",
            "  (0, 16773)\t0.17654247479915475\n",
            "  (0, 5612)\t0.08603537588547631\n",
            "  (0, 16735)\t0.10690083751525419\n",
            "  (0, 7904)\t0.13348000542112332\n",
            "  (0, 15219)\t0.09800472886453934\n",
            "  (0, 11242)\t0.07277788238484746\n",
            "  (0, 3878)\t0.11998399582562203\n",
            "  (0, 5499)\t0.11454057510303811\n",
            "  (0, 7071)\t0.19822417598406614\n",
            "  (0, 7454)\t0.14745635785412262\n",
            "  (0, 1495)\t0.19712637387361423\n",
            "  (0, 9206)\t0.15186283580984414\n",
            "  :\t:\n",
            "  (4757, 5455)\t0.12491480594769522\n",
            "  (4757, 2967)\t0.16273475835631626\n",
            "  (4757, 8464)\t0.23522565554066333\n",
            "  (4757, 6938)\t0.17088173678136628\n",
            "  (4757, 8379)\t0.17480603856721913\n",
            "  (4757, 15303)\t0.07654356007668191\n",
            "  (4757, 15384)\t0.09754322497537371\n",
            "  (4757, 7649)\t0.11479421494340192\n",
            "  (4757, 10896)\t0.14546473055066447\n",
            "  (4757, 4494)\t0.05675298448720501\n",
            "  (4758, 5238)\t1.0\n",
            "  (4759, 11264)\t0.33947721804318337\n",
            "  (4759, 11708)\t0.33947721804318337\n",
            "  (4759, 205)\t0.3237911628497312\n",
            "  (4759, 8902)\t0.3040290704566037\n",
            "  (4759, 14062)\t0.3237911628497312\n",
            "  (4759, 3058)\t0.2812896191863103\n",
            "  (4759, 7130)\t0.26419662449963793\n",
            "  (4759, 10761)\t0.3126617295732147\n",
            "  (4759, 4358)\t0.18306542312175342\n",
            "  (4759, 14051)\t0.20084315377640435\n",
            "  (4759, 5690)\t0.19534291014627303\n",
            "  (4759, 15431)\t0.19628653185946862\n",
            "  (4759, 1490)\t0.21197258705292082\n",
            "  (4759, 10666)\t0.15888268987343043\n"
          ]
        }
      ]
    },
    {
      "cell_type": "markdown",
      "source": [
        "cosine similarity to find similarity"
      ],
      "metadata": {
        "id": "wRjnGHATwHqQ"
      }
    },
    {
      "cell_type": "code",
      "source": [
        "from sklearn.metrics.pairwise import cosine_similarity\n"
      ],
      "metadata": {
        "id": "TsUPR9h3vbuQ"
      },
      "execution_count": 57,
      "outputs": []
    },
    {
      "cell_type": "code",
      "source": [
        "Similarity_score=cosine_similarity(X)"
      ],
      "metadata": {
        "id": "KnhgtB4DwSl2"
      },
      "execution_count": 58,
      "outputs": []
    },
    {
      "cell_type": "code",
      "source": [
        "Similarity_score"
      ],
      "metadata": {
        "colab": {
          "base_uri": "https://localhost:8080/"
        },
        "id": "-7Opai4wwa3F",
        "outputId": "2c3eda18-c0b1-49d7-ae98-518b7506e760"
      },
      "execution_count": 59,
      "outputs": [
        {
          "output_type": "execute_result",
          "data": {
            "text/plain": [
              "array([[1.        , 0.01351235, 0.03570468, ..., 0.        , 0.        ,\n",
              "        0.        ],\n",
              "       [0.01351235, 1.        , 0.00806674, ..., 0.        , 0.        ,\n",
              "        0.        ],\n",
              "       [0.03570468, 0.00806674, 1.        , ..., 0.        , 0.08014876,\n",
              "        0.        ],\n",
              "       ...,\n",
              "       [0.        , 0.        , 0.        , ..., 1.        , 0.        ,\n",
              "        0.        ],\n",
              "       [0.        , 0.        , 0.08014876, ..., 0.        , 1.        ,\n",
              "        0.        ],\n",
              "       [0.        , 0.        , 0.        , ..., 0.        , 0.        ,\n",
              "        1.        ]])"
            ]
          },
          "metadata": {},
          "execution_count": 59
        }
      ]
    },
    {
      "cell_type": "code",
      "source": [
        "Similarity_score.shape\n"
      ],
      "metadata": {
        "colab": {
          "base_uri": "https://localhost:8080/"
        },
        "id": "ChVcfbpuwfrL",
        "outputId": "1fa61850-4f1f-4406-a7b1-2d37fee2d8f8"
      },
      "execution_count": 60,
      "outputs": [
        {
          "output_type": "execute_result",
          "data": {
            "text/plain": [
              "(4760, 4760)"
            ]
          },
          "metadata": {},
          "execution_count": 60
        }
      ]
    },
    {
      "cell_type": "code",
      "source": [
        "#take input\n",
        "Favmoviw=input(\"Enter your favourite movie name:\")\n",
        "All_movies_title_list=df['Movie_Title'].tolist()"
      ],
      "metadata": {
        "colab": {
          "base_uri": "https://localhost:8080/"
        },
        "id": "g_lkXLj7w2J3",
        "outputId": "17f3f6cf-77b6-42f3-ac49-448370628c71"
      },
      "execution_count": 61,
      "outputs": [
        {
          "name": "stdout",
          "output_type": "stream",
          "text": [
            "Enter your favourite movie name:bell\n"
          ]
        }
      ]
    },
    {
      "cell_type": "code",
      "source": [
        "import difflib"
      ],
      "metadata": {
        "id": "cZWM1zlKxNon"
      },
      "execution_count": 62,
      "outputs": []
    },
    {
      "cell_type": "code",
      "source": [
        "Movie_Recommendation = difflib.get_close_matches(Favmoviw,All_movies_title_list)\n",
        "print(Movie_Recommendation)"
      ],
      "metadata": {
        "colab": {
          "base_uri": "https://localhost:8080/"
        },
        "id": "22b9Ro1mxiQu",
        "outputId": "35fb6502-4cea-4d6f-cfee-8d98414b5b2c"
      },
      "execution_count": 63,
      "outputs": [
        {
          "output_type": "stream",
          "name": "stdout",
          "text": [
            "['Bella', 'Babel', 'Annabelle']\n"
          ]
        }
      ]
    },
    {
      "cell_type": "code",
      "source": [
        "closest_match=Movie_Recommendation[0]\n",
        "print(closest_match)"
      ],
      "metadata": {
        "colab": {
          "base_uri": "https://localhost:8080/"
        },
        "id": "-wasQzE0x0eu",
        "outputId": "f4cbec51-a36c-4598-a715-9b095a447d57"
      },
      "execution_count": 64,
      "outputs": [
        {
          "output_type": "stream",
          "name": "stdout",
          "text": [
            "Bella\n"
          ]
        }
      ]
    },
    {
      "cell_type": "code",
      "source": [
        "indexofmatchedmovie=df[df.Movie_Title==closest_match]['Movie_ID'].values[0]\n",
        "print(indexofmatchedmovie)"
      ],
      "metadata": {
        "colab": {
          "base_uri": "https://localhost:8080/"
        },
        "id": "sfp7k6yfx4mY",
        "outputId": "71bbb448-c66f-4007-dfbe-de0f2bef9dec"
      },
      "execution_count": 65,
      "outputs": [
        {
          "output_type": "stream",
          "name": "stdout",
          "text": [
            "2150\n"
          ]
        }
      ]
    },
    {
      "cell_type": "code",
      "source": [
        "recomendation_score=list(enumerate(Similarity_score[indexofmatchedmovie]))\n",
        "print(recomendation_score)"
      ],
      "metadata": {
        "colab": {
          "base_uri": "https://localhost:8080/"
        },
        "id": "iAtIQamuy2b7",
        "outputId": "b2e24a34-57ee-4c70-f1b3-2e701d2848d2"
      },
      "execution_count": 66,
      "outputs": [
        {
          "output_type": "stream",
          "name": "stdout",
          "text": [
            "[(0, 0.002761668218212631), (1, 0.027003532632536985), (2, 0.02026923335018948), (3, 0.01794778006645581), (4, 0.0), (5, 0.0), (6, 0.01377259927637494), (7, 0.04360735725821156), (8, 0.0), (9, 0.027182549117934683), (10, 0.005883625474095147), (11, 0.0), (12, 0.0), (13, 0.027865635088498684), (14, 0.03286396481647816), (15, 0.016078440545293865), (16, 0.0), (17, 0.01359770884408519), (18, 0.05626780542136323), (19, 0.014047220762284734), (20, 0.0), (21, 0.0), (22, 0.003815682024708544), (23, 0.02087158112870538), (24, 0.0), (25, 0.003178833860774324), (26, 0.0), (27, 0.007561936567912989), (28, 0.003901716928832112), (29, 0.0), (30, 0.01756566399791256), (31, 0.0), (32, 0.011225443517276255), (33, 0.02680439589737349), (34, 0.0), (35, 0.020363475504941175), (36, 0.03349523713829991), (37, 0.04921964152390461), (38, 0.06659539057283506), (39, 0.029494263334266562), (40, 0.020900519176647033), (41, 0.01424359850760934), (42, 0.003930754872124337), (43, 0.0), (44, 0.0045958544672591636), (45, 0.07902691333420298), (46, 0.0457541997443122), (47, 0.0), (48, 0.0060833394322432205), (49, 0.01978891096432535), (50, 0.041591006965850004), (51, 0.0), (52, 0.0), (53, 0.018546063561348792), (54, 0.01299970095303182), (55, 0.013375367462221635), (56, 0.013032917120863102), (57, 0.018517595490390372), (58, 0.025911110065935168), (59, 0.061221673457789345), (60, 0.03053080841861085), (61, 0.01977393776842536), (62, 0.0), (63, 0.010187647313716968), (64, 0.012708219642032946), (65, 0.01443790441716671), (66, 0.016540673057942025), (67, 0.011607572607356363), (68, 0.005855327517442399), (69, 0.014055198886121154), (70, 0.0), (71, 0.027488946809560197), (72, 0.0), (73, 0.016944368667454954), (74, 0.0), (75, 0.02003417142027813), (76, 0.030490960102067186), (77, 0.072008397799709), (78, 0.016879259779502265), (79, 0.007256974519155808), (80, 0.011728889941085056), (81, 0.0), (82, 0.002916189097467342), (83, 0.0), (84, 0.005405749022932945), (85, 0.0), (86, 0.003304914294770564), (87, 0.0), (88, 0.004553695566378673), (89, 0.0), (90, 0.059696888541128826), (91, 0.07150445919542818), (92, 0.022484722040701205), (93, 0.058470980399367725), (94, 0.056061681848864474), (95, 0.06279746090567029), (96, 0.0), (97, 0.02794863919186037), (98, 0.06237029673735961), (99, 0.03816646103561113), (100, 0.01812578894523498), (101, 0.02226460163679626), (102, 0.006031789101237501), (103, 0.003328493264048013), (104, 0.0), (105, 0.04304804438601045), (106, 0.015417767160262757), (107, 0.03439971854656273), (108, 0.017247358232428036), (109, 0.0), (110, 0.003927522276898198), (111, 0.008609560992344946), (112, 0.0), (113, 0.01394166944505536), (114, 0.03070451197361616), (115, 0.028366557472495293), (116, 0.018903136428267544), (117, 0.008321205962449379), (118, 0.013134342279192482), (119, 0.012558643038902343), (120, 0.008713947227398244), (121, 0.0), (122, 0.005085856974027566), (123, 0.006040422226404755), (124, 0.0), (125, 0.006320529014571567), (126, 0.01644695837478247), (127, 0.0), (128, 0.028344062780093358), (129, 0.002683488125262917), (130, 0.01822972812508955), (131, 0.04016236202339566), (132, 0.0), (133, 0.0), (134, 0.0039256703014829844), (135, 0.005516273849214144), (136, 0.02800887231557423), (137, 0.0), (138, 0.0), (139, 0.02090470518538166), (140, 0.0), (141, 0.0042209708365402), (142, 0.0), (143, 0.005791659711566645), (144, 0.005246710606929349), (145, 0.0), (146, 0.013259160637400767), (147, 0.0), (148, 0.005010130005596023), (149, 0.0), (150, 0.014252117184262492), (151, 0.013223104455098507), (152, 0.012431030643144067), (153, 0.029492033072907653), (154, 0.008699597958016263), (155, 0.029581052324958158), (156, 0.0031217975445646715), (157, 0.003659937776811016), (158, 0.0), (159, 0.02532144760268562), (160, 0.013555648516607427), (161, 0.003454191494868047), (162, 0.006063944936578343), (163, 0.03921675565363592), (164, 0.0), (165, 0.011065707617497365), (166, 0.02140931113612711), (167, 0.008953540067677448), (168, 0.02503011193358916), (169, 0.003775616624736169), (170, 0.005002370088371589), (171, 0.012150867881619183), (172, 0.0), (173, 0.0), (174, 0.0037958122376795978), (175, 0.00324495222016503), (176, 0.0), (177, 0.020137779080515623), (178, 0.0), (179, 0.015118672883461706), (180, 0.005899778289096799), (181, 0.005484271195074316), (182, 0.011211254058093239), (183, 0.007748940561521786), (184, 0.0), (185, 0.0416100741897582), (186, 0.0), (187, 0.0), (188, 0.012211903147007975), (189, 0.030417673879924664), (190, 0.007909048786276683), (191, 0.05221356325036382), (192, 0.0), (193, 0.0), (194, 0.007436030118179671), (195, 0.028723808085429948), (196, 0.02253766405800098), (197, 0.003628494733244884), (198, 0.0), (199, 0.007704160795968166), (200, 0.030046793709628622), (201, 0.05466979801513314), (202, 0.013396345077778718), (203, 0.0), (204, 0.040694303645686436), (205, 0.004069208098004409), (206, 0.0), (207, 0.0), (208, 0.01359002486516431), (209, 0.0), (210, 0.005950275310476785), (211, 0.008033559754700471), (212, 0.0035963535501969505), (213, 0.02964147739567501), (214, 0.003465264980971903), (215, 0.03357279277832163), (216, 0.0), (217, 0.027193849602802717), (218, 0.015107362341900923), (219, 0.05078969209463122), (220, 0.005836952838480045), (221, 0.0), (222, 0.008157423267265944), (223, 0.0053164669619976965), (224, 0.0), (225, 0.008839191372978575), (226, 0.0), (227, 0.0), (228, 0.022970890693729956), (229, 0.0), (230, 0.005376642471486758), (231, 0.013423137201705735), (232, 0.0137821924548561), (233, 0.014596357456591186), (234, 0.028254558867211246), (235, 0.0), (236, 0.0), (237, 0.005905842757261441), (238, 0.003919475322908306), (239, 0.007721530864321995), (240, 0.028073938994345536), (241, 0.00726179026858799), (242, 0.027967135329270577), (243, 0.0), (244, 0.014467741120999082), (245, 0.03767902942771063), (246, 0.008173627096900882), (247, 0.04307348182332516), (248, 0.0), (249, 0.0), (250, 0.0), (251, 0.007943715648083684), (252, 0.006448217183986607), (253, 0.004201513677587465), (254, 0.0), (255, 0.0), (256, 0.0), (257, 0.09715091347911615), (258, 0.02957411706716792), (259, 0.0054894096620086465), (260, 0.012141345566410762), (261, 0.012350219926913961), (262, 0.0), (263, 0.015750253185863945), (264, 0.016666492196033153), (265, 0.0), (266, 0.004248052838233089), (267, 0.0), (268, 0.0), (269, 0.004737410416728444), (270, 0.009692950006563249), (271, 0.0042311976750503445), (272, 0.01853068061380792), (273, 0.0), (274, 0.0), (275, 0.0), (276, 0.0), (277, 0.013826008496418258), (278, 0.0033097398142629335), (279, 0.003597554094394212), (280, 0.0), (281, 0.0), (282, 0.02388201451667219), (283, 0.11629276117177118), (284, 0.012207762343483485), (285, 0.008393915866439611), (286, 0.006246825795639616), (287, 0.0), (288, 0.010870852166049615), (289, 0.03583489537794591), (290, 0.01044557884957407), (291, 0.02209663909060143), (292, 0.012419432913648693), (293, 0.04528932475488686), (294, 0.01019219598008285), (295, 0.01043913781991904), (296, 0.00413788828517119), (297, 0.016640427021642746), (298, 0.016430588724560623), (299, 0.015726391307752448), (300, 0.014984990885151126), (301, 0.03416933086089789), (302, 0.0), (303, 0.005991074317578027), (304, 0.008544702411655924), (305, 0.022047388920965867), (306, 0.011794005701904463), (307, 0.008693440268752179), (308, 0.00944822927711274), (309, 0.0), (310, 0.01229867362501344), (311, 0.012306116677039427), (312, 0.012377198150735468), (313, 0.0), (314, 0.010730472537482648), (315, 0.02213668121149527), (316, 0.020453266832331722), (317, 0.0), (318, 0.004199634029457193), (319, 0.015266483221149565), (320, 0.04413307657924607), (321, 0.03041584981666562), (322, 0.038051083722161455), (323, 0.011450290584674026), (324, 0.029353615755994964), (325, 0.01238945968770492), (326, 0.0), (327, 0.011482958325113734), (328, 0.005362095366506391), (329, 0.0), (330, 0.05041500725733681), (331, 0.0313696845404209), (332, 0.035892232692453535), (333, 0.04972647422511692), (334, 0.07736443233526343), (335, 0.0218386159600141), (336, 0.014623928039729315), (337, 0.0), (338, 0.003506059553682084), (339, 0.0037188115154618193), (340, 0.016899735890170093), (341, 0.009097602255223066), (342, 0.0), (343, 0.0), (344, 0.04449057344977978), (345, 0.058817966168509345), (346, 0.02061000458363713), (347, 0.0), (348, 0.009174645778802863), (349, 0.01942527568199001), (350, 0.010194119324087808), (351, 0.00937814779282048), (352, 0.04123469835421784), (353, 0.015020231018012824), (354, 0.0), (355, 0.0), (356, 0.0), (357, 0.00331617323131626), (358, 0.026096447693997268), (359, 0.008505398583405654), (360, 0.008794264774755553), (361, 0.04672073349101553), (362, 0.038361541457013135), (363, 0.03796680145931205), (364, 0.006262741203312627), (365, 0.038584054019503274), (366, 0.0031338988011034735), (367, 0.08057690709682835), (368, 0.013350850185008508), (369, 0.07606285584128372), (370, 0.0), (371, 0.0), (372, 0.0), (373, 0.008783588875761621), (374, 0.0), (375, 0.005456311268071347), (376, 0.0), (377, 0.003959490089144248), (378, 0.0), (379, 0.011788503620057442), (380, 0.03810238822792124), (381, 0.013515483975155259), (382, 0.011773652263398368), (383, 0.010955208994178199), (384, 0.017586663703649676), (385, 0.004254103219199082), (386, 0.005748936524777929), (387, 0.0), (388, 0.008749276844524407), (389, 0.018453863915235034), (390, 0.04297299385379046), (391, 0.047046055590257714), (392, 0.0390197641280214), (393, 0.011610625410315214), (394, 0.02543541245489504), (395, 0.0), (396, 0.0), (397, 0.04279529427595399), (398, 0.0038696115220093878), (399, 0.0), (400, 0.0), (401, 0.01983632176206351), (402, 0.0), (403, 0.0), (404, 0.02912274954855867), (405, 0.03186540459618025), (406, 0.0), (407, 0.006779399837777167), (408, 0.008762567201303348), (409, 0.06844539988496473), (410, 0.05321143329070925), (411, 0.005067569043052307), (412, 0.019524762655541532), (413, 0.01722940288154066), (414, 0.023035573403165685), (415, 0.013848265458685931), (416, 0.007043040172332888), (417, 0.015459733577060257), (418, 0.02344468811601533), (419, 0.00819882868677377), (420, 0.044212073576124895), (421, 0.03403928033659019), (422, 0.0036309005815857026), (423, 0.05354960850562075), (424, 0.014534341179906894), (425, 0.025035926056046355), (426, 0.011972989148993248), (427, 0.06391921610662558), (428, 0.0065723410763189145), (429, 0.0), (430, 0.03037231984263368), (431, 0.004532013340949561), (432, 0.08128049134012497), (433, 0.013556613772974594), (434, 0.0), (435, 0.004476842930789961), (436, 0.04624185995529137), (437, 0.008017182820947303), (438, 0.0), (439, 0.00921356695333534), (440, 0.011981532324888515), (441, 0.0), (442, 0.0045778822903899796), (443, 0.0), (444, 0.0), (445, 0.01418764190329488), (446, 0.0), (447, 0.0), (448, 0.0), (449, 0.0), (450, 0.0), (451, 0.039696487123974764), (452, 0.009641080265691907), (453, 0.0), (454, 0.003566552041130521), (455, 0.0), (456, 0.008142975437816738), (457, 0.055068097444198584), (458, 0.006160388342793021), (459, 0.012042470725378484), (460, 0.0), (461, 0.09828069359206852), (462, 0.0), (463, 0.0), (464, 0.01638159989810204), (465, 0.0), (466, 0.009162878969753093), (467, 0.04401256312229654), (468, 0.04178046268316924), (469, 0.01057866830337725), (470, 0.014734229026448921), (471, 0.01224378106844543), (472, 0.07087331150588444), (473, 0.011861628468805544), (474, 0.00403791398401434), (475, 0.0), (476, 0.0), (477, 0.05105746456382246), (478, 0.0), (479, 0.0038383512524629284), (480, 0.0), (481, 0.018957138690537757), (482, 0.0), (483, 0.028330606722788133), (484, 0.007360042122848718), (485, 0.0), (486, 0.0), (487, 0.04575576171983907), (488, 0.0), (489, 0.02395930117795786), (490, 0.008366712482883832), (491, 0.014964829064070703), (492, 0.04212543605496327), (493, 0.0), (494, 0.009406895448247247), (495, 0.004883135145118303), (496, 0.025077785982158075), (497, 0.022329851671070558), (498, 0.040540644168016275), (499, 0.0), (500, 0.00538332381993009), (501, 0.011494695985218302), (502, 0.018249082996275468), (503, 0.003738229687857911), (504, 0.0038661130160068), (505, 0.003650670222737645), (506, 0.038289068943204475), (507, 0.003608365188701957), (508, 0.014133867246245513), (509, 0.01699594009088984), (510, 0.003071769265942787), (511, 0.0076950578805994084), (512, 0.006562041493105919), (513, 0.016076662835604067), (514, 0.005987312618072319), (515, 0.03831789854090519), (516, 0.005754909368942281), (517, 0.005737469432402154), (518, 0.0), (519, 0.018762582259642068), (520, 0.0033577231253388777), (521, 0.03436304009099314), (522, 0.0355933665969287), (523, 0.009742641436736282), (524, 0.007751133229955032), (525, 0.0405797173033355), (526, 0.0), (527, 0.01337795744852177), (528, 0.02555010556976179), (529, 0.0038666407078996505), (530, 0.026413270184734917), (531, 0.03015709654275981), (532, 0.008695167420305558), (533, 0.006209762047329457), (534, 0.005452911120180586), (535, 0.012936685952488938), (536, 0.004089715448641157), (537, 0.014570868025889637), (538, 0.023166934219050205), (539, 0.012526126713842439), (540, 0.01181419748692181), (541, 0.0), (542, 0.003871595822742457), (543, 0.0), (544, 0.02032491167684317), (545, 0.024329558084870136), (546, 0.01888371616461085), (547, 0.0), (548, 0.012003780280518149), (549, 0.007839253136957448), (550, 0.024376067974095507), (551, 0.0), (552, 0.0), (553, 0.005176960772330447), (554, 0.005355597482550373), (555, 0.004541101634574957), (556, 0.0), (557, 0.0), (558, 0.0), (559, 0.0), (560, 0.024129999479786265), (561, 0.03330300329587662), (562, 0.0), (563, 0.0), (564, 0.019419454683883543), (565, 0.041702030612137744), (566, 0.03325765251027342), (567, 0.012482730318523715), (568, 0.011872266370682293), (569, 0.03540625927466149), (570, 0.030142872353344157), (571, 0.0), (572, 0.013122650341625495), (573, 0.0), (574, 0.0), (575, 0.020048983725833813), (576, 0.019972521578855602), (577, 0.0034417640352113377), (578, 0.0), (579, 0.0038955372225246056), (580, 0.031694112485717345), (581, 0.0), (582, 0.0045272357009350445), (583, 0.00696757898815357), (584, 0.0), (585, 0.012612630424107768), (586, 0.028849738734730575), (587, 0.02666074448325803), (588, 0.0), (589, 0.003561478550964139), (590, 0.0), (591, 0.0867631523510374), (592, 0.013001266666542955), (593, 0.020428604565515422), (594, 0.009941536841916768), (595, 0.038292318504874356), (596, 0.0), (597, 0.01592652900966416), (598, 0.022267121824994976), (599, 0.03946427678107827), (600, 0.03181178911615583), (601, 0.010920036400354768), (602, 0.010451332420112343), (603, 0.05577865341107472), (604, 0.0), (605, 0.08745185348517259), (606, 0.0), (607, 0.0), (608, 0.006598819964052208), (609, 0.02831825815929814), (610, 0.021941999635460195), (611, 0.0), (612, 0.0), (613, 0.012617327605104391), (614, 0.006334567305207051), (615, 0.01326002911505842), (616, 0.02654019356902904), (617, 0.013992423542476033), (618, 0.009047986224757441), (619, 0.005495434145771882), (620, 0.0), (621, 0.004671264667773095), (622, 0.018522696878536266), (623, 0.0), (624, 0.0), (625, 0.0), (626, 0.01570860876681006), (627, 0.009857282487193156), (628, 0.0), (629, 0.017629412160661176), (630, 0.0038829028974017143), (631, 0.013161532773106619), (632, 0.008463000688012612), (633, 0.0), (634, 0.01628068027311094), (635, 0.013975516267287111), (636, 0.0), (637, 0.0), (638, 0.0), (639, 0.010809138411377338), (640, 0.010716159580618348), (641, 0.011263457059876556), (642, 0.0), (643, 0.016891815118133174), (644, 0.005244734812118079), (645, 0.0), (646, 0.014591411331137099), (647, 0.017573174736363766), (648, 0.05780359067547797), (649, 0.06534383969794094), (650, 0.0068158286589313465), (651, 0.005330278115266444), (652, 0.0), (653, 0.004803584309298954), (654, 0.005818979590921327), (655, 0.0), (656, 0.02321166676735961), (657, 0.035784637952430434), (658, 0.0), (659, 0.05682639146087834), (660, 0.0), (661, 0.018837199955293635), (662, 0.05750812102449007), (663, 0.04860423148448896), (664, 0.0034447301318503484), (665, 0.01617105021297622), (666, 0.014404389293745278), (667, 0.0040402411311003085), (668, 0.029563931675375674), (669, 0.0329874048785915), (670, 0.0282866641762321), (671, 0.003968107399833117), (672, 0.013272910706603068), (673, 0.006024879848981239), (674, 0.05465159151333767), (675, 0.01010720897637017), (676, 0.0), (677, 0.007977935859143581), (678, 0.004189393126956559), (679, 0.004428841075761216), (680, 0.02839482591594349), (681, 0.04246935571537042), (682, 0.006209337645909945), (683, 0.006232828524200409), (684, 0.004051249556637), (685, 0.009520736971731746), (686, 0.01738376608456875), (687, 0.01651429505063041), (688, 0.006116024033592687), (689, 0.016482101916196472), (690, 0.027347044724163366), (691, 0.00993476993166523), (692, 0.037278042681522724), (693, 0.0), (694, 0.0), (695, 0.01605574715034838), (696, 0.0), (697, 0.003858953410371136), (698, 0.0), (699, 0.006546503251144412), (700, 0.017256868567911334), (701, 0.01034577571750002), (702, 0.0035953807031140427), (703, 0.040684937534079646), (704, 0.0), (705, 0.0), (706, 0.006710953914863658), (707, 0.030019515119241214), (708, 0.003964831883598549), (709, 0.0032179242776694907), (710, 0.0035700519785090124), (711, 0.0045139300414549005), (712, 0.0242655105031586), (713, 0.021905459002194816), (714, 0.03768260532293961), (715, 0.03367643433959034), (716, 0.02314216428860971), (717, 0.008811162915149284), (718, 0.0), (719, 0.004435471443017657), (720, 0.056377046455950035), (721, 0.0), (722, 0.0), (723, 0.004673804759732598), (724, 0.015620467665290176), (725, 0.018076892722194968), (726, 0.01636507190001238), (727, 0.06800406462632422), (728, 0.005954784724214226), (729, 0.006156562094819407), (730, 0.012656885475476554), (731, 0.008865622253281033), (732, 0.008273641298151781), (733, 0.0), (734, 0.0), (735, 0.005247471048465405), (736, 0.0773216502559275), (737, 0.008668739706959598), (738, 0.030784412464901177), (739, 0.050509432839964945), (740, 0.03997512998777681), (741, 0.01094688743994439), (742, 0.0), (743, 0.020581288597282657), (744, 0.029452413732596175), (745, 0.07435820231718604), (746, 0.0), (747, 0.0), (748, 0.0), (749, 0.005524341121907402), (750, 0.027668462348630223), (751, 0.024605669494273674), (752, 0.036282015851414794), (753, 0.006399983302264125), (754, 0.004117073857008567), (755, 0.026960224101395244), (756, 0.017632858028304683), (757, 0.017876100461573625), (758, 0.003872698750715698), (759, 0.025258057590345134), (760, 0.004408486185715571), (761, 0.0), (762, 0.057056223266081604), (763, 0.0052122088694376125), (764, 0.04987404954037146), (765, 0.019590219659080164), (766, 0.0), (767, 0.0), (768, 0.007840633399399369), (769, 0.0), (770, 0.0035494364700849822), (771, 0.0041401386368836645), (772, 0.012577908212975239), (773, 0.02085691876441949), (774, 0.0), (775, 0.005569203342281307), (776, 0.022924975545066645), (777, 0.0), (778, 0.00790959644680693), (779, 0.004719416789102484), (780, 0.0642578338866371), (781, 0.07165384890498454), (782, 0.0), (783, 0.009763190282457562), (784, 0.003984574933767487), (785, 0.03286657616942228), (786, 0.01781864169362182), (787, 0.05155000162829468), (788, 0.029437581679415906), (789, 0.030886172631159323), (790, 0.0), (791, 0.019912948017278134), (792, 0.0), (793, 0.01728495830772621), (794, 0.025528821876536403), (795, 0.011067566532692013), (796, 0.0), (797, 0.019846066061613498), (798, 0.023134007933886414), (799, 0.0), (800, 0.013292956151701809), (801, 0.029173283048119635), (802, 0.034736333029126), (803, 0.033399229601786255), (804, 0.004965728667365757), (805, 0.0), (806, 0.040864785421615174), (807, 0.012810763057995604), (808, 0.0), (809, 0.005668057548438503), (810, 0.0), (811, 0.0), (812, 0.030113267764598387), (813, 0.0), (814, 0.003947573202181482), (815, 0.03821768831792834), (816, 0.0), (817, 0.0), (818, 0.024412265991902306), (819, 0.014381527628728406), (820, 0.046925109073903445), (821, 0.02913905097667989), (822, 0.05984172563203939), (823, 0.0), (824, 0.051858775596607246), (825, 0.014343486321849815), (826, 0.013651830196601291), (827, 0.020959985193846602), (828, 0.0), (829, 0.0), (830, 0.0), (831, 0.0), (832, 0.0), (833, 0.0), (834, 0.0), (835, 0.01893708340515706), (836, 0.010836463162995354), (837, 0.0029540538991967022), (838, 0.0), (839, 0.004341752472986439), (840, 0.030014481061224698), (841, 0.004219617670040634), (842, 0.0384343548626222), (843, 0.0), (844, 0.0), (845, 0.005779999743582474), (846, 0.02090497872612567), (847, 0.004406765731865574), (848, 0.00556796309093933), (849, 0.0166326065349657), (850, 0.0), (851, 0.008203125648689996), (852, 0.006963558296749145), (853, 0.0), (854, 0.005269005902545742), (855, 0.01990385353026483), (856, 0.016354250036310945), (857, 0.0), (858, 0.0), (859, 0.030551605054427805), (860, 0.03269503032158668), (861, 0.0), (862, 0.03668993110294552), (863, 0.008471824148122654), (864, 0.01674647313744722), (865, 0.0), (866, 0.02053954323931401), (867, 0.012921482792655167), (868, 0.005126054287945239), (869, 0.0668497948415061), (870, 0.03529979425306015), (871, 0.007479729378830377), (872, 0.017817914988108974), (873, 0.03284842050409291), (874, 0.0), (875, 0.014049364979488235), (876, 0.0), (877, 0.08941171852130281), (878, 0.005214676590975475), (879, 0.0040092249337724695), (880, 0.023893739921291575), (881, 0.01912296061804859), (882, 0.019903070651621477), (883, 0.012524292561316763), (884, 0.013640769450973545), (885, 0.0034468917143910894), (886, 0.00360273241765115), (887, 0.0), (888, 0.0), (889, 0.0), (890, 0.00400788149926802), (891, 0.05188115492746284), (892, 0.035344260458768754), (893, 0.008357292056881627), (894, 0.0), (895, 0.024875148648707462), (896, 0.0), (897, 0.0), (898, 0.003461827667718196), (899, 0.0), (900, 0.0), (901, 0.007676550132086912), (902, 0.013130992732625546), (903, 0.010425934679329054), (904, 0.011022735698042312), (905, 0.010832030940596357), (906, 0.0), (907, 0.0035339635409033293), (908, 0.009566078148921943), (909, 0.031233047701640496), (910, 0.0), (911, 0.012127169853170146), (912, 0.038724509982259035), (913, 0.015687300206668867), (914, 0.03381215736380151), (915, 0.07345959800156819), (916, 0.003560809890445638), (917, 0.0), (918, 0.06538813385881098), (919, 0.029850490781705565), (920, 0.05028319869106903), (921, 0.03500314434607352), (922, 0.0), (923, 0.01262618506584554), (924, 0.02325681256857374), (925, 0.004418678176341932), (926, 0.00867508599012511), (927, 0.0), (928, 0.005761474499143197), (929, 0.010668358413089635), (930, 0.0), (931, 0.012283658288580763), (932, 0.021670429852748793), (933, 0.003924652281158732), (934, 0.0), (935, 0.006771016366957113), (936, 0.014889180894650161), (937, 0.0), (938, 0.013142081104317584), (939, 0.003624663700616363), (940, 0.02982971677430595), (941, 0.0035992474251234307), (942, 0.05178243235929575), (943, 0.003852101179015659), (944, 0.0), (945, 0.016852663637744448), (946, 0.024970563880547893), (947, 0.007447475235418012), (948, 0.01179030642764523), (949, 0.011024053065288718), (950, 0.0), (951, 0.009389533981305234), (952, 0.0), (953, 0.007462273088941058), (954, 0.011440514973267209), (955, 0.061497014799188766), (956, 0.05549142766427446), (957, 0.01122418641646751), (958, 0.0035124705507598108), (959, 0.0), (960, 0.0), (961, 0.028416718922740673), (962, 0.008788172381597596), (963, 0.005160809873628518), (964, 0.025572367744520923), (965, 0.016607188815899558), (966, 0.027733962986527555), (967, 0.0), (968, 0.0), (969, 0.00392236948375798), (970, 0.0032468122229371943), (971, 0.003955517363315761), (972, 0.010042552972623627), (973, 0.003786070512079111), (974, 0.005168380314612298), (975, 0.0), (976, 0.0), (977, 0.09344221841191683), (978, 0.007108968607489384), (979, 0.0), (980, 0.0), (981, 0.004970449229739474), (982, 0.004227336632716846), (983, 0.003774314931311471), (984, 0.026388132066471195), (985, 0.004395980163665187), (986, 0.005516807782003916), (987, 0.024788256231439338), (988, 0.0), (989, 0.0), (990, 0.036461337577500766), (991, 0.021499304897476847), (992, 0.005906505988228341), (993, 0.0), (994, 0.015029329075428283), (995, 0.0037646347398012044), (996, 0.013213362266608339), (997, 0.0049654205221045826), (998, 0.004356422405503273), (999, 0.004352856977390248), (1000, 0.0049658261177223575), (1001, 0.021033268979126205), (1002, 0.007322975773153053), (1003, 0.0), (1004, 0.029709367994425712), (1005, 0.004219978848512206), (1006, 0.05012031263908687), (1007, 0.025185240506236932), (1008, 0.023534771658815058), (1009, 0.0074955565458586825), (1010, 0.007919907462297142), (1011, 0.090494015670802), (1012, 0.012680805108796094), (1013, 0.03047326331343371), (1014, 0.025974478688802143), (1015, 0.005968071246474204), (1016, 0.027757639587218972), (1017, 0.022309622499958583), (1018, 0.008082039792260319), (1019, 0.0), (1020, 0.008891723068867072), (1021, 0.003827837567359519), (1022, 0.011071691381817914), (1023, 0.006206008126130884), (1024, 0.009752814273768026), (1025, 0.024475298112677783), (1026, 0.029762505293869684), (1027, 0.06977030856737725), (1028, 0.032418354392193954), (1029, 0.0036365436849207723), (1030, 0.0), (1031, 0.005870074838112412), (1032, 0.0), (1033, 0.0), (1034, 0.0), (1035, 0.005363536293279615), (1036, 0.03877842991489931), (1037, 0.0), (1038, 0.032596245693814155), (1039, 0.0), (1040, 0.0030014612481280276), (1041, 0.0), (1042, 0.013841503849834551), (1043, 0.019049281908124636), (1044, 0.014326547176938341), (1045, 0.030119850381338836), (1046, 0.018765833791774673), (1047, 0.038917370339131084), (1048, 0.0), (1049, 0.004556783819380964), (1050, 0.006201734581737148), (1051, 0.008902984880515262), (1052, 0.0), (1053, 0.0), (1054, 0.07271820463826204), (1055, 0.033261348133853216), (1056, 0.006006940025976214), (1057, 0.035065388397587716), (1058, 0.0), (1059, 0.0), (1060, 0.0), (1061, 0.011803410969876605), (1062, 0.0818324380305231), (1063, 0.02132289428400047), (1064, 0.011228631656319692), (1065, 0.005046189224369802), (1066, 0.005084878438517054), (1067, 0.0396859784670202), (1068, 0.0), (1069, 0.008144792987330904), (1070, 0.003284513516519902), (1071, 0.0), (1072, 0.0), (1073, 0.0036534990671420586), (1074, 0.009392673652472738), (1075, 0.009763303182079608), (1076, 0.031059039945224617), (1077, 0.0), (1078, 0.003200291812091135), (1079, 0.06664746995245878), (1080, 0.0), (1081, 0.0), (1082, 0.04119784274329539), (1083, 0.018136991524555793), (1084, 0.0211262395180463), (1085, 0.04486947480738465), (1086, 0.008656521973584722), (1087, 0.007400895473884067), (1088, 0.010507812972616456), (1089, 0.004224991981470293), (1090, 0.03432685524569848), (1091, 0.05676060480763465), (1092, 0.03510940140943531), (1093, 0.030886763184452645), (1094, 0.0037607887799338685), (1095, 0.0), (1096, 0.005371197104616234), (1097, 0.0), (1098, 0.0), (1099, 0.017648437328313), (1100, 0.0037792890624408115), (1101, 0.0), (1102, 0.005479504316368231), (1103, 0.0041410225907284725), (1104, 0.0), (1105, 0.003899948910625428), (1106, 0.03352766511595888), (1107, 0.0), (1108, 0.016982085332147047), (1109, 0.008522402150285508), (1110, 0.0), (1111, 0.013080840723903336), (1112, 0.03769629004882418), (1113, 0.016067083519358438), (1114, 0.028462868925512173), (1115, 0.013373451673538681), (1116, 0.03426941740441503), (1117, 0.003691689931837964), (1118, 0.0069945159083216), (1119, 0.0), (1120, 0.022763395909166803), (1121, 0.011611488157550476), (1122, 0.00562089736221599), (1123, 0.00880832481230169), (1124, 0.028761201830252145), (1125, 0.003692817740990409), (1126, 0.010983063557346063), (1127, 0.036780150768586165), (1128, 0.009081502147491292), (1129, 0.005523106623139293), (1130, 0.003765619408523694), (1131, 0.0), (1132, 0.0), (1133, 0.003834625282950297), (1134, 0.04024585572310681), (1135, 0.011878656937787864), (1136, 0.0), (1137, 0.004532934651690991), (1138, 0.05439025657077222), (1139, 0.02609340390777475), (1140, 0.029079324135648104), (1141, 0.014929646516844504), (1142, 0.012877511528335144), (1143, 0.0), (1144, 0.0067363113906284584), (1145, 0.0), (1146, 0.0), (1147, 0.0498236812509705), (1148, 0.0), (1149, 0.032902390191225823), (1150, 0.023803147998096734), (1151, 0.012835486128484713), (1152, 0.003562744185235466), (1153, 0.0065654044034052245), (1154, 0.004921052201487343), (1155, 0.07723766738705323), (1156, 0.0031546926597387456), (1157, 0.003525974060937576), (1158, 0.0), (1159, 0.03923110659374631), (1160, 0.0), (1161, 0.013696783421944027), (1162, 0.006023365876690899), (1163, 0.0), (1164, 0.004489280147333689), (1165, 0.03599074509469469), (1166, 0.02799680229670814), (1167, 0.0), (1168, 0.021275528484373703), (1169, 0.004497568573912819), (1170, 0.030709801942849065), (1171, 0.04259337021867249), (1172, 0.005527731903768205), (1173, 0.015061845174685546), (1174, 0.0056441432673961355), (1175, 0.03582472548257058), (1176, 0.0), (1177, 0.0), (1178, 0.025945934705635727), (1179, 0.07559694855806064), (1180, 0.04352853037949457), (1181, 0.0), (1182, 0.03599690097673151), (1183, 0.005124608791552337), (1184, 0.0), (1185, 0.02325053961174548), (1186, 0.0), (1187, 0.0045150273411529674), (1188, 0.03342753883572096), (1189, 0.033478508966862656), (1190, 0.03679951679429014), (1191, 0.0), (1192, 0.009710442479368567), (1193, 0.004026856882325972), (1194, 0.03229523733956264), (1195, 0.03203240348470933), (1196, 0.012211907659447088), (1197, 0.01523790456406412), (1198, 0.03439300074509993), (1199, 0.052869204614644394), (1200, 0.032440626445631206), (1201, 0.008704344902793445), (1202, 0.0), (1203, 0.030102916030834682), (1204, 0.01247159565452813), (1205, 0.061536246733720615), (1206, 0.021508766422912114), (1207, 0.0122290830438928), (1208, 0.0048993370268093535), (1209, 0.0), (1210, 0.05341827714261797), (1211, 0.0036413461102221076), (1212, 0.008078144983522632), (1213, 0.08413693923942028), (1214, 0.007851814268733532), (1215, 0.0), (1216, 0.03236430612688396), (1217, 0.018006911060611683), (1218, 0.0), (1219, 0.03510144785325978), (1220, 0.008365080517353605), (1221, 0.06671248125232379), (1222, 0.03700274033577768), (1223, 0.0), (1224, 0.0293167794006194), (1225, 0.03305865494679925), (1226, 0.0054654362927882985), (1227, 0.0038389895470653597), (1228, 0.04340350006855025), (1229, 0.08039838352451997), (1230, 0.005299277503702671), (1231, 0.010658218827512604), (1232, 0.03230868621115088), (1233, 0.028455884526088233), (1234, 0.004069358832512825), (1235, 0.01193813803498974), (1236, 0.0), (1237, 0.07269196680162215), (1238, 0.011046741527110063), (1239, 0.01642245023137365), (1240, 0.03350583017924419), (1241, 0.004538708154352311), (1242, 0.06844438749322541), (1243, 0.004191530847084062), (1244, 0.01716754889057538), (1245, 0.14432346352488046), (1246, 0.02967093351371144), (1247, 0.0), (1248, 0.03219596297824992), (1249, 0.003331640331995286), (1250, 0.009446321284801495), (1251, 0.010877260391335523), (1252, 0.021889942183808374), (1253, 0.005443973585824196), (1254, 0.02261798138099093), (1255, 0.0), (1256, 0.00362839366709262), (1257, 0.005440463439209177), (1258, 0.015485436699547588), (1259, 0.005046223443073942), (1260, 0.004286714809666197), (1261, 0.0037206828378384513), (1262, 0.012766576016600481), (1263, 0.05371897431557836), (1264, 0.0), (1265, 0.006000524796529819), (1266, 0.029941846112469445), (1267, 0.0037149189308790663), (1268, 0.08632975918490765), (1269, 0.012780052995217107), (1270, 0.015980759800732613), (1271, 0.0), (1272, 0.0071726516910471), (1273, 0.04735364039419477), (1274, 0.030725570978935215), (1275, 0.0), (1276, 0.04595417618353637), (1277, 0.0028737317883531753), (1278, 0.02286680356863294), (1279, 0.020410129177329144), (1280, 0.03127846069619641), (1281, 0.020165772964989934), (1282, 0.00410835281070182), (1283, 0.019407622218115875), (1284, 0.003740865642770713), (1285, 0.019812485056063932), (1286, 0.003767374820339888), (1287, 0.00701364888149434), (1288, 0.026985412769894943), (1289, 0.039413837279943416), (1290, 0.004891240851925357), (1291, 0.05494177911138613), (1292, 0.07184485509050724), (1293, 0.015997362365801286), (1294, 0.009514366383789672), (1295, 0.016410542948018497), (1296, 0.02685938534441836), (1297, 0.025138544430476605), (1298, 0.020626490849927896), (1299, 0.013763206082344477), (1300, 0.010393912940788529), (1301, 0.01118331713652776), (1302, 0.01889733628387649), (1303, 0.0), (1304, 0.013115356319068088), (1305, 0.04110328493415031), (1306, 0.017671948557988346), (1307, 0.03780271073423355), (1308, 0.017956372102285442), (1309, 0.03245238155815264), (1310, 0.057190285029532315), (1311, 0.02386701524536466), (1312, 0.003243005120073243), (1313, 0.04226308739162647), (1314, 0.022579021950213406), (1315, 0.012451070847486891), (1316, 0.0), (1317, 0.07929601897028324), (1318, 0.024741240018617768), (1319, 0.0), (1320, 0.007350685763024275), (1321, 0.042205909396082035), (1322, 0.003911950410642614), (1323, 0.01633850766629768), (1324, 0.04762681869513042), (1325, 0.0526621470646263), (1326, 0.09914784756512865), (1327, 0.03304000661042262), (1328, 0.05299492056557922), (1329, 0.060406875817553066), (1330, 0.02723273449919167), (1331, 0.0035223089924521743), (1332, 0.032778780101995274), (1333, 0.05564089786196464), (1334, 0.0), (1335, 0.03774093516782866), (1336, 0.028838659729475746), (1337, 0.03394487898849514), (1338, 0.005430178259169522), (1339, 0.0), (1340, 0.003263547942017492), (1341, 0.013660134055913618), (1342, 0.0), (1343, 0.0), (1344, 0.003107440690823353), (1345, 0.1536173824756557), (1346, 0.012873825260912741), (1347, 0.0), (1348, 0.008156421398918392), (1349, 0.0), (1350, 0.012468995069305206), (1351, 0.0), (1352, 0.010873396724710974), (1353, 0.0035731154450328183), (1354, 0.011808520461164027), (1355, 0.016971599055459384), (1356, 0.007844419408039963), (1357, 0.06378643003685218), (1358, 0.020943042527277203), (1359, 0.00825876154735966), (1360, 0.028985333736398312), (1361, 0.012486301228567594), (1362, 0.0028557388693631345), (1363, 0.0036470631373411873), (1364, 0.00399029194045867), (1365, 0.0), (1366, 0.011546789545233381), (1367, 0.0032091632594967315), (1368, 0.033152804921099906), (1369, 0.004518792597661034), (1370, 0.010598859144154628), (1371, 0.039646231260993675), (1372, 0.0036048635364450735), (1373, 0.027940079078807648), (1374, 0.02009488468187836), (1375, 0.00880883226177527), (1376, 0.06413157490798471), (1377, 0.004453639631739418), (1378, 0.01741692694691123), (1379, 0.014425904332851841), (1380, 0.04179842104609996), (1381, 0.02532524293237784), (1382, 0.003966570017087982), (1383, 0.0), (1384, 0.027912647528090962), (1385, 0.022096561896721875), (1386, 0.01301393911455361), (1387, 0.07742321682980695), (1388, 0.011170993410557281), (1389, 0.0905917076292335), (1390, 0.004134424519272334), (1391, 0.0), (1392, 0.015073691730153677), (1393, 0.024100618117679072), (1394, 0.01089057617331327), (1395, 0.0), (1396, 0.013386694520736549), (1397, 0.022739708339884472), (1398, 0.0148183037822021), (1399, 0.0), (1400, 0.009769615452865981), (1401, 0.0301519307301254), (1402, 0.0), (1403, 0.0029525464610605213), (1404, 0.0), (1405, 0.0593764451356357), (1406, 0.005395906395345761), (1407, 0.0), (1408, 0.026948965598494568), (1409, 0.004111209597964107), (1410, 0.0038839577587852416), (1411, 0.03739980340146221), (1412, 0.012183914682740032), (1413, 0.00560317175240602), (1414, 0.027058514195729303), (1415, 0.0), (1416, 0.0), (1417, 0.00430968153310728), (1418, 0.009839416989084152), (1419, 0.014806755375486785), (1420, 0.036859229235882106), (1421, 0.0), (1422, 0.007483289213613098), (1423, 0.00749863999732403), (1424, 0.0043873327769856545), (1425, 0.02193305270131042), (1426, 0.009819240600334194), (1427, 0.003150165136333587), (1428, 0.028751406628478256), (1429, 0.0), (1430, 0.0), (1431, 0.018980796232947177), (1432, 0.009753927498701341), (1433, 0.027255982445949407), (1434, 0.0), (1435, 0.0), (1436, 0.013544023691663555), (1437, 0.05172516426174842), (1438, 0.0), (1439, 0.0), (1440, 0.012998308931334484), (1441, 0.0041427018646532044), (1442, 0.014641443065978756), (1443, 0.005696176010651381), (1444, 0.003823942404193207), (1445, 0.013698805555151322), (1446, 0.0036826359188496358), (1447, 0.0037904039794469527), (1448, 0.018506632374425066), (1449, 0.09699836467284172), (1450, 0.05744141859283764), (1451, 0.007936498765243917), (1452, 0.0), (1453, 0.0030919897895246304), (1454, 0.006064122763034838), (1455, 0.00551431335059563), (1456, 0.0), (1457, 0.0035787882661638317), (1458, 0.018678454670665926), (1459, 0.012600010956253543), (1460, 0.040322436689363014), (1461, 0.0038858876638312723), (1462, 0.0), (1463, 0.043436232008537294), (1464, 0.0), (1465, 0.003331707051308614), (1466, 0.024772466732243488), (1467, 0.024672352040763762), (1468, 0.014752672095158103), (1469, 0.009693917472188864), (1470, 0.013249707409782548), (1471, 0.004094173989203456), (1472, 0.049602957316402574), (1473, 0.05669255297266181), (1474, 0.08826827221812401), (1475, 0.00758892841429717), (1476, 0.0038933631752012254), (1477, 0.036387706086879246), (1478, 0.024466292598709465), (1479, 0.004214832456945486), (1480, 0.0), (1481, 0.01938500611985945), (1482, 0.01074436506096368), (1483, 0.005478199310248525), (1484, 0.04092416302974295), (1485, 0.003467096981171035), (1486, 0.010312354653341372), (1487, 0.011654368999469044), (1488, 0.0077051018845064705), (1489, 0.022940609612162408), (1490, 0.010627137531179054), (1491, 0.004187822046545881), (1492, 0.0033255993755508025), (1493, 0.0), (1494, 0.028579314509690305), (1495, 0.06909242299063864), (1496, 0.03374877230452042), (1497, 0.0), (1498, 0.010303822679163027), (1499, 0.03158847824231401), (1500, 0.0), (1501, 0.003838024246319893), (1502, 0.005830275728399753), (1503, 0.0066002443759898225), (1504, 0.005468144580382306), (1505, 0.027544914925420654), (1506, 0.013981067404376449), (1507, 0.0044006895109933875), (1508, 0.007569048175347395), (1509, 0.006331500158999142), (1510, 0.014930168388154086), (1511, 0.005995185269973853), (1512, 0.005556985057821774), (1513, 0.018556024979427526), (1514, 0.006737103412732276), (1515, 0.012884103811808531), (1516, 0.00964353693432557), (1517, 0.0038259937467705002), (1518, 0.014120564982071725), (1519, 0.0), (1520, 0.048799512607560075), (1521, 0.030008141652208192), (1522, 0.021458408339372216), (1523, 0.010501508669966218), (1524, 0.10574555485885061), (1525, 0.022105748804416427), (1526, 0.0036722925638410495), (1527, 0.037842335133491146), (1528, 0.003490427200938422), (1529, 0.042574406621135236), (1530, 0.01048304629390862), (1531, 0.008927436052661329), (1532, 0.0036477715322972004), (1533, 0.0038981587665053324), (1534, 0.01814162845310694), (1535, 0.012435905444175995), (1536, 0.03885906671946645), (1537, 0.028117361131410383), (1538, 0.0), (1539, 0.014387416694462307), (1540, 0.0064494955530640195), (1541, 0.008244478054902128), (1542, 0.003978734412647285), (1543, 0.048942483073895086), (1544, 0.008988826406169804), (1545, 0.017866903333425704), (1546, 0.004749611920043396), (1547, 0.025703348087085978), (1548, 0.006988551003889412), (1549, 0.003790692385878227), (1550, 0.0), (1551, 0.0), (1552, 0.023991267702571088), (1553, 0.0), (1554, 0.024297812833024214), (1555, 0.007865638841958386), (1556, 0.0), (1557, 0.054218209459916074), (1558, 0.0), (1559, 0.0), (1560, 0.020996017234407135), (1561, 0.0036937419048543307), (1562, 0.008584622209497458), (1563, 0.008350064258018776), (1564, 0.009590213424596844), (1565, 0.0), (1566, 0.029397281856072606), (1567, 0.015076593162663821), (1568, 0.0), (1569, 0.01910179237431371), (1570, 0.013462139022113441), (1571, 0.016879105825166888), (1572, 0.05988980738528296), (1573, 0.0), (1574, 0.00935275395754099), (1575, 0.0), (1576, 0.02046463507792143), (1577, 0.016788877498144613), (1578, 0.09494187969279211), (1579, 0.03481883857982657), (1580, 0.0), (1581, 0.011894361549908413), (1582, 0.04316234501287921), (1583, 0.004210149665623837), (1584, 0.0), (1585, 0.00786488750118475), (1586, 0.022437344156614473), (1587, 0.016941747082588453), (1588, 0.03327669183980761), (1589, 0.0037643510122830166), (1590, 0.01519828743825251), (1591, 0.006394163190136372), (1592, 0.07229860355987755), (1593, 0.01123179738669196), (1594, 0.004302588643224481), (1595, 0.0), (1596, 0.004082078457511246), (1597, 0.0037018154107485955), (1598, 0.01932021752485935), (1599, 0.009480760185232893), (1600, 0.0412003173475933), (1601, 0.03084071804513193), (1602, 0.044239076948005954), (1603, 0.013433348078097096), (1604, 0.021068792948318253), (1605, 0.01497247418643424), (1606, 0.03609036187606643), (1607, 0.08446918898906293), (1608, 0.008180805619003721), (1609, 0.0041008553704791695), (1610, 0.04086730223577637), (1611, 0.0168198955937615), (1612, 0.009229103442144395), (1613, 0.0127857490256752), (1614, 0.0041110502373130475), (1615, 0.023177247744822528), (1616, 0.019666553635649474), (1617, 0.0), (1618, 0.02311452564179499), (1619, 0.0), (1620, 0.03999993905854788), (1621, 0.0), (1622, 0.0162912721948244), (1623, 0.0), (1624, 0.0), (1625, 0.0), (1626, 0.019277000446082874), (1627, 0.038096316792786265), (1628, 0.0), (1629, 0.009566980445433117), (1630, 0.00879404366124019), (1631, 0.03179272667878481), (1632, 0.07233105983500793), (1633, 0.008855848154236207), (1634, 0.007617535584577209), (1635, 0.03123359201488844), (1636, 0.017075646239534833), (1637, 0.004122118465948819), (1638, 0.023778971630596297), (1639, 0.023775529079891326), (1640, 0.037526969603078796), (1641, 0.0), (1642, 0.037759250577553104), (1643, 0.0), (1644, 0.0038385447343256304), (1645, 0.012366231944352279), (1646, 0.031143445744528812), (1647, 0.0), (1648, 0.0), (1649, 0.036813026995942986), (1650, 0.022094759683672832), (1651, 0.010020002185750165), (1652, 0.003408655096986631), (1653, 0.005383930979626797), (1654, 0.0036681745062551794), (1655, 0.0), (1656, 0.004405836044117959), (1657, 0.004986344127951896), (1658, 0.004254596332133182), (1659, 0.03821352308653879), (1660, 0.004015171578796843), (1661, 0.009980479823449299), (1662, 0.0), (1663, 0.011580094976278477), (1664, 0.02926726204439358), (1665, 0.005169381422639815), (1666, 0.07195255058356462), (1667, 0.0), (1668, 0.0037000260635250996), (1669, 0.0), (1670, 0.008892926038442817), (1671, 0.0), (1672, 0.008484401634590794), (1673, 0.08544370391872047), (1674, 0.010110195806624558), (1675, 0.011661395773366213), (1676, 0.02304746577727523), (1677, 0.07441497645742344), (1678, 0.046370507212325676), (1679, 0.014205857198441734), (1680, 0.00501417277179522), (1681, 0.01623659882446774), (1682, 0.0), (1683, 0.013153711398016375), (1684, 0.010767373698190837), (1685, 0.009805804210766178), (1686, 0.007442370359780945), (1687, 0.005853760195431058), (1688, 0.0348469388762939), (1689, 0.013755695303981817), (1690, 0.014537105038300784), (1691, 0.0), (1692, 0.005462639714976852), (1693, 0.0036081454835338667), (1694, 0.0034119585955889593), (1695, 0.009949259535823271), (1696, 0.0054139071351948205), (1697, 0.04558217984259517), (1698, 0.02061952158027997), (1699, 0.0), (1700, 0.04005092102879227), (1701, 0.0), (1702, 0.04240397238563908), (1703, 0.0), (1704, 0.024079916736930263), (1705, 0.032373935066384356), (1706, 0.04053617066610077), (1707, 0.0), (1708, 0.015884263640258602), (1709, 0.013954072916767658), (1710, 0.0), (1711, 0.029623179278535944), (1712, 0.0), (1713, 0.02412991436085569), (1714, 0.030158728018238018), (1715, 0.006883515777950666), (1716, 0.0), (1717, 0.03805983845133092), (1718, 0.0040280618109516985), (1719, 0.0034681873142551737), (1720, 0.0624441623873392), (1721, 0.008762255562376468), (1722, 0.0038806389619841864), (1723, 0.01880205568724601), (1724, 0.0), (1725, 0.018294032420075976), (1726, 0.012613766508478461), (1727, 0.009735905989124875), (1728, 0.004264913364794329), (1729, 0.02557948439308843), (1730, 0.0), (1731, 0.030919744163135445), (1732, 0.019913735707802648), (1733, 0.026174192575410767), (1734, 0.009811629847178153), (1735, 0.009656685850327505), (1736, 0.0057797337689321155), (1737, 0.02269374214860821), (1738, 0.07102690635514634), (1739, 0.0), (1740, 0.03199255808575728), (1741, 0.013217079837181568), (1742, 0.0), (1743, 0.027108541826699705), (1744, 0.027536776311602482), (1745, 0.010956399133343248), (1746, 0.0035865172576076835), (1747, 0.022571848531825565), (1748, 0.0), (1749, 0.0051782449125750835), (1750, 0.054811819765811814), (1751, 0.018850996119888025), (1752, 0.023220023999104365), (1753, 0.0), (1754, 0.010209663030553318), (1755, 0.029406111310634395), (1756, 0.0), (1757, 0.03515909941448623), (1758, 0.05089491865758781), (1759, 0.022921135819326685), (1760, 0.0), (1761, 0.0), (1762, 0.008268103532814203), (1763, 0.0), (1764, 0.011095794391539819), (1765, 0.003974560357799115), (1766, 0.013564451632813546), (1767, 0.0036915722525652493), (1768, 0.02457140591434235), (1769, 0.02775483661052061), (1770, 0.005936569763763361), (1771, 0.011984063117872073), (1772, 0.011107981356597085), (1773, 0.026289376476725506), (1774, 0.0), (1775, 0.03056973908510118), (1776, 0.017638881455873754), (1777, 0.003948011579422028), (1778, 0.003579405087411599), (1779, 0.017644700170730124), (1780, 0.06232654477837957), (1781, 0.032646073162693946), (1782, 0.0), (1783, 0.011565858493193675), (1784, 0.018834165325637624), (1785, 0.0036363149582117537), (1786, 0.004226530366765712), (1787, 0.05277370955113013), (1788, 0.02249608583201367), (1789, 0.011820336131214915), (1790, 0.004581080103835836), (1791, 0.08164580696179966), (1792, 0.0045160630969286325), (1793, 0.0), (1794, 0.003516365474635133), (1795, 0.0), (1796, 0.021950001405698794), (1797, 0.02271666277405592), (1798, 0.021557001458109407), (1799, 0.006046863295136057), (1800, 0.03905968040984956), (1801, 0.0), (1802, 0.010902778310901882), (1803, 0.008393579528061013), (1804, 0.012329453403474315), (1805, 0.0), (1806, 0.004195401881289937), (1807, 0.0263193498285978), (1808, 0.05030300826297848), (1809, 0.011568607115964033), (1810, 0.05291141554893084), (1811, 0.009193579137629637), (1812, 0.013674227923449814), (1813, 0.05616809324827864), (1814, 0.0), (1815, 0.0063910707065708856), (1816, 0.006928193803037686), (1817, 0.0), (1818, 0.008873467205756167), (1819, 0.015440063093086997), (1820, 0.021967877943575048), (1821, 0.004032602116069406), (1822, 0.00988474370143067), (1823, 0.005108184767772735), (1824, 0.0123241250003928), (1825, 0.0), (1826, 0.0), (1827, 0.00347505446649477), (1828, 0.0469661258392461), (1829, 0.01897450556823508), (1830, 0.010891623522031092), (1831, 0.0), (1832, 0.009465619905176425), (1833, 0.09133683849495243), (1834, 0.003809715797290464), (1835, 0.0), (1836, 0.0042667886664674495), (1837, 0.0470279318878482), (1838, 0.027445973574167646), (1839, 0.01173862793376357), (1840, 0.0), (1841, 0.037882922727584034), (1842, 0.012026923209467848), (1843, 0.009583236497424012), (1844, 0.07366087070111971), (1845, 0.02693198885131533), (1846, 0.029451032942812636), (1847, 0.04254974777994232), (1848, 0.004136833566086945), (1849, 0.07051319257483595), (1850, 0.057179948018532205), (1851, 0.0040007726241028255), (1852, 0.0), (1853, 0.005843927423064159), (1854, 0.008067065612173475), (1855, 0.010403389984476296), (1856, 0.004086792556687023), (1857, 0.0), (1858, 0.010370571686960194), (1859, 0.0), (1860, 0.0), (1861, 0.005825750808666809), (1862, 0.0), (1863, 0.00729713877334695), (1864, 0.0), (1865, 0.008407963398647904), (1866, 0.0), (1867, 0.020162571662148115), (1868, 0.007198070684724652), (1869, 0.0), (1870, 0.0735827706671304), (1871, 0.05722092833444129), (1872, 0.01676227114254052), (1873, 0.009277283942117829), (1874, 0.0), (1875, 0.007758941108223993), (1876, 0.03501781903469613), (1877, 0.012511065701067248), (1878, 0.0492697885801058), (1879, 0.08289197550748396), (1880, 0.01990506242472268), (1881, 0.009794075878211649), (1882, 0.0), (1883, 0.05632452004355945), (1884, 0.0), (1885, 0.0), (1886, 0.010174270317207376), (1887, 0.0), (1888, 0.0075499787073521046), (1889, 0.01987021927157917), (1890, 0.0), (1891, 0.009187694414882026), (1892, 0.0), (1893, 0.008106401735316083), (1894, 0.013871311614765734), (1895, 0.024409309003162828), (1896, 0.0), (1897, 0.0), (1898, 0.04219119809130539), (1899, 0.0035825144503819554), (1900, 0.03845615852169284), (1901, 0.013118937531312866), (1902, 0.004039274937521042), (1903, 0.019098037238836803), (1904, 0.013537308702669369), (1905, 0.004189635564032436), (1906, 0.021346794238140735), (1907, 0.004136485451620654), (1908, 0.0471273846899025), (1909, 0.0), (1910, 0.0), (1911, 0.020324765013545732), (1912, 0.03869789278065639), (1913, 0.012130421249362183), (1914, 0.0036116365870951603), (1915, 0.026382685737312218), (1916, 0.02110611099476786), (1917, 0.0039447400275058175), (1918, 0.0), (1919, 0.014269472053048198), (1920, 0.022097224810321663), (1921, 0.0), (1922, 0.0), (1923, 0.004267891152704027), (1924, 0.019914751231131452), (1925, 0.05560386398537285), (1926, 0.01181878063955695), (1927, 0.03137475064011426), (1928, 0.0043445322985561745), (1929, 0.003663512567370112), (1930, 0.0), (1931, 0.013078692443957735), (1932, 0.016332593947665064), (1933, 0.0), (1934, 0.01792976242540588), (1935, 0.015389090708399712), (1936, 0.021718362774371246), (1937, 0.005423068146466933), (1938, 0.017021749229443), (1939, 0.0220879413619706), (1940, 0.0), (1941, 0.022300276191364418), (1942, 0.0), (1943, 0.01876616294775453), (1944, 0.003191711295482421), (1945, 0.012897866256034837), (1946, 0.0), (1947, 0.004461081725363138), (1948, 0.008771278970308053), (1949, 0.034484216079174644), (1950, 0.0), (1951, 0.008154428715805127), (1952, 0.0), (1953, 0.0), (1954, 0.024574404832445173), (1955, 0.020558240413906234), (1956, 0.00388702649398019), (1957, 0.028709534389798008), (1958, 0.05059224251354118), (1959, 0.0), (1960, 0.0), (1961, 0.02016256030585113), (1962, 0.0), (1963, 0.01060779066032879), (1964, 0.0), (1965, 0.011617726998362027), (1966, 0.0), (1967, 0.0), (1968, 0.02695497384773997), (1969, 0.016822511434508997), (1970, 0.0), (1971, 0.004679608198600837), (1972, 0.0), (1973, 0.008808769023377617), (1974, 0.021815704446567292), (1975, 0.03194699984135811), (1976, 0.016520989723285393), (1977, 0.013167529325047889), (1978, 0.0034250978283352465), (1979, 0.05103961618485449), (1980, 0.0034467986962049414), (1981, 0.003209237319542845), (1982, 0.039821714424155885), (1983, 0.055748755193116464), (1984, 0.012050435553900235), (1985, 0.02319310142658023), (1986, 0.03020597074873183), (1987, 0.015277674249258587), (1988, 0.0), (1989, 0.005846937767138187), (1990, 0.008443777110271939), (1991, 0.0), (1992, 0.050379364254301305), (1993, 0.0), (1994, 0.011665630478251587), (1995, 0.0), (1996, 0.015924228070537186), (1997, 0.0), (1998, 0.0), (1999, 0.03924806582169593), (2000, 0.023113126088461045), (2001, 0.030733093056998048), (2002, 0.013722443439776437), (2003, 0.0037125993071954752), (2004, 0.0), (2005, 0.003455482321040182), (2006, 0.01669122456734851), (2007, 0.018635010641313923), (2008, 0.018026370889296203), (2009, 0.015528501787181508), (2010, 0.010108894535988608), (2011, 0.0), (2012, 0.01076869976408678), (2013, 0.010198901332024064), (2014, 0.02577169372299122), (2015, 0.013366410731850107), (2016, 0.013288729159356742), (2017, 0.009458571915223415), (2018, 0.003134484312167429), (2019, 0.08091477562227664), (2020, 0.004709396506577628), (2021, 0.016111972308779803), (2022, 0.10559791624096931), (2023, 0.029990936283912546), (2024, 0.021157130873356134), (2025, 0.02424635644896288), (2026, 0.003839834083775454), (2027, 0.017880195041997775), (2028, 0.013440774894098012), (2029, 0.0), (2030, 0.04454691235430627), (2031, 0.0), (2032, 0.009006457921624229), (2033, 0.008517499875245697), (2034, 0.02420019813816233), (2035, 0.0), (2036, 0.0324895221956906), (2037, 0.0), (2038, 0.022752566210433332), (2039, 0.034332093239233905), (2040, 0.016338505627145977), (2041, 0.027854294569589894), (2042, 0.004010018363009161), (2043, 0.019265275306293465), (2044, 0.005864459670543873), (2045, 0.02242806435470552), (2046, 0.012276821273883952), (2047, 0.10054215343313366), (2048, 0.007492641414123501), (2049, 0.013551414992190914), (2050, 0.0186622416523588), (2051, 0.0), (2052, 0.016612512368978486), (2053, 0.0), (2054, 0.0), (2055, 0.032454899245624315), (2056, 0.0037031542363295316), (2057, 0.016905122708856562), (2058, 0.03582090676246506), (2059, 0.0033515216062333128), (2060, 0.06849799566102416), (2061, 0.0055919679997808005), (2062, 0.10879770051229469), (2063, 0.003483929270204002), (2064, 0.020686114306633214), (2065, 0.011500407771547115), (2066, 0.02482632645070405), (2067, 0.012877657281652102), (2068, 0.003651643608027519), (2069, 0.009106074788034671), (2070, 0.020735169598578337), (2071, 0.0035750693217378444), (2072, 0.0), (2073, 0.0), (2074, 0.014630880094784884), (2075, 0.01677275193389288), (2076, 0.01105780597645826), (2077, 0.011419850304541767), (2078, 0.028512935974384375), (2079, 0.00438688860428874), (2080, 0.0), (2081, 0.009373816068262696), (2082, 0.01932471399064621), (2083, 0.03371961320426946), (2084, 0.0), (2085, 0.005752217571742002), (2086, 0.022962873388566528), (2087, 0.012022582594611126), (2088, 0.024047750981062863), (2089, 0.0), (2090, 0.03235527495325338), (2091, 0.029829383870746868), (2092, 0.01346852274382756), (2093, 0.015392881914565547), (2094, 0.005224533121421212), (2095, 0.03687500563916196), (2096, 0.0), (2097, 0.010085549078559616), (2098, 0.0032871563452336583), (2099, 0.011489206914862583), (2100, 0.01512468340752159), (2101, 0.014347551712998305), (2102, 0.0), (2103, 0.012464381895733616), (2104, 0.0), (2105, 0.018562217886061327), (2106, 0.0079452842910446), (2107, 0.0036604701609616844), (2108, 0.0042653141923435604), (2109, 0.0), (2110, 0.0), (2111, 0.015804931072603653), (2112, 0.0), (2113, 0.08700497074525793), (2114, 0.039009267445037465), (2115, 0.03705776350981488), (2116, 0.004147563620373183), (2117, 0.02038323710406742), (2118, 0.0), (2119, 0.008597697427525072), (2120, 0.0), (2121, 0.0), (2122, 0.0038794932302894623), (2123, 0.0), (2124, 0.05008304302569127), (2125, 0.0229495812773375), (2126, 0.0), (2127, 0.03243955969387607), (2128, 0.012892825027395239), (2129, 0.0), (2130, 0.007358631606455037), (2131, 0.0036916320218868147), (2132, 0.0), (2133, 0.032163542484888896), (2134, 0.010366762514911313), (2135, 0.02154187456584302), (2136, 0.03558003299675912), (2137, 0.005446621695736819), (2138, 0.004355499506147157), (2139, 0.012013905750168924), (2140, 0.003653998842459882), (2141, 0.008858604730237404), (2142, 0.010809264663775357), (2143, 0.08102997653438594), (2144, 0.0), (2145, 0.006825910752087803), (2146, 0.0032841105482865223), (2147, 0.004078972624851053), (2148, 0.007966262773138654), (2149, 0.0), (2150, 1.0), (2151, 0.018076021284970982), (2152, 0.0), (2153, 0.04048619568036324), (2154, 0.022694097362536074), (2155, 0.0), (2156, 0.0034218964916492923), (2157, 0.0032313392321431083), (2158, 0.004480626735360395), (2159, 0.0), (2160, 0.0036161105801118232), (2161, 0.030428574478046713), (2162, 0.028814790587490334), (2163, 0.014787840349914148), (2164, 0.059992912948936494), (2165, 0.010223003186324593), (2166, 0.017547315395453757), (2167, 0.0036927315358953675), (2168, 0.003288469630331162), (2169, 0.0), (2170, 0.033376818059249594), (2171, 0.03338404294022088), (2172, 0.007454924120338162), (2173, 0.0), (2174, 0.031568066136367375), (2175, 0.0), (2176, 0.019558537213903576), (2177, 0.02960665840801189), (2178, 0.06732557411287618), (2179, 0.003610092007282592), (2180, 0.02525557405223711), (2181, 0.006266767518227475), (2182, 0.07197475198419136), (2183, 0.06481404821853821), (2184, 0.005186261725660671), (2185, 0.014910177515956106), (2186, 0.004355806166762987), (2187, 0.036796523840766364), (2188, 0.026963971790510147), (2189, 0.0), (2190, 0.0), (2191, 0.0), (2192, 0.0038699966819936648), (2193, 0.07541665662922277), (2194, 0.013598084561240292), (2195, 0.026761697479118735), (2196, 0.008935058231974472), (2197, 0.01941302851435301), (2198, 0.02305244011692288), (2199, 0.016000921931009708), (2200, 0.019432577575014664), (2201, 0.011434720043597309), (2202, 0.030078488760706207), (2203, 0.003516402160535053), (2204, 0.09466286066246696), (2205, 0.05230625558152676), (2206, 0.0052772208746166335), (2207, 0.025144844362465436), (2208, 0.02746324623653835), (2209, 0.026576048898732416), (2210, 0.02279458681474683), (2211, 0.0403149196601593), (2212, 0.022046126537510338), (2213, 0.0), (2214, 0.01801944882190951), (2215, 0.0036070501392573393), (2216, 0.035871601117735394), (2217, 0.009802880737013547), (2218, 0.044935392212908876), (2219, 0.0028360285582132777), (2220, 0.022865226530839566), (2221, 0.007704947082254329), (2222, 0.013542427491544938), (2223, 0.04606088790422647), (2224, 0.005238938611972934), (2225, 0.020497713753079336), (2226, 0.0), (2227, 0.007780927979194991), (2228, 0.016969046452066438), (2229, 0.0), (2230, 0.0), (2231, 0.0), (2232, 0.005393861504839855), (2233, 0.014047540569554873), (2234, 0.007893791122442553), (2235, 0.0), (2236, 0.011154253937227802), (2237, 0.011232408155097018), (2238, 0.0057176356350167245), (2239, 0.021551623738650133), (2240, 0.01791596213830238), (2241, 0.009737283263072839), (2242, 0.0036526544266113643), (2243, 0.005921978751768882), (2244, 0.0), (2245, 0.0), (2246, 0.0), (2247, 0.0), (2248, 0.0), (2249, 0.044937618134560195), (2250, 0.0), (2251, 0.0), (2252, 0.0), (2253, 0.02077365059809421), (2254, 0.0), (2255, 0.0), (2256, 0.017995819363492233), (2257, 0.010878268568844416), (2258, 0.004167091870387474), (2259, 0.02391912086741133), (2260, 0.013149435656541923), (2261, 0.014248185904552053), (2262, 0.01107411454762545), (2263, 0.03530034468594612), (2264, 0.05189667684262631), (2265, 0.01115905929465437), (2266, 0.0), (2267, 0.026934677915401543), (2268, 0.0), (2269, 0.00980632549996402), (2270, 0.003320324676046707), (2271, 0.03377682570383228), (2272, 0.0035694652977989864), (2273, 0.0), (2274, 0.02386508318826427), (2275, 0.007476647446342269), (2276, 0.023576765781190168), (2277, 0.012975906098281316), (2278, 0.009402491592354435), (2279, 0.0), (2280, 0.0038067673972678254), (2281, 0.01630784546348717), (2282, 0.043906138256197984), (2283, 0.04570411683375233), (2284, 0.0038636231275932537), (2285, 0.02144045182367856), (2286, 0.0), (2287, 0.012146714031751457), (2288, 0.0), (2289, 0.0), (2290, 0.04504311595474671), (2291, 0.031761285269587776), (2292, 0.0039139549149183675), (2293, 0.0), (2294, 0.012776334650402621), (2295, 0.009415464251992458), (2296, 0.12170240413663186), (2297, 0.003766768935844055), (2298, 0.016423832559875753), (2299, 0.0), (2300, 0.0), (2301, 0.007728923166537993), (2302, 0.004364846269920122), (2303, 0.003624360424364316), (2304, 0.00858741044596134), (2305, 0.004395171877819122), (2306, 0.0), (2307, 0.003941772206176918), (2308, 0.016408005939445247), (2309, 0.003670936888068569), (2310, 0.0), (2311, 0.0036149410054203404), (2312, 0.030629082437585525), (2313, 0.0), (2314, 0.0), (2315, 0.017173542995823663), (2316, 0.09036646554086042), (2317, 0.02946781497978739), (2318, 0.0), (2319, 0.036652176794397515), (2320, 0.004467445633982994), (2321, 0.0), (2322, 0.020204214696804113), (2323, 0.027370930092298136), (2324, 0.009392463903753446), (2325, 0.003989411453258389), (2326, 0.0), (2327, 0.026912255293937884), (2328, 0.0), (2329, 0.048962698007368716), (2330, 0.013534146094981585), (2331, 0.017018032232527812), (2332, 0.047481249515860545), (2333, 0.0045746398068135016), (2334, 0.0), (2335, 0.016277597514229067), (2336, 0.013037409534243354), (2337, 0.041955009595109456), (2338, 0.008373573127950968), (2339, 0.004364653218148581), (2340, 0.0038524088514598673), (2341, 0.0), (2342, 0.0), (2343, 0.0), (2344, 0.0), (2345, 0.0), (2346, 0.0), (2347, 0.0), (2348, 0.0036196871754583977), (2349, 0.024135791082445002), (2350, 0.03897449887951963), (2351, 0.014672136954499385), (2352, 0.026409856466693183), (2353, 0.017135969640904067), (2354, 0.03187957785351087), (2355, 0.0), (2356, 0.014309750854826369), (2357, 0.036397806010225804), (2358, 0.012175130579934076), (2359, 0.06463361663274308), (2360, 0.02482059348507538), (2361, 0.005856149886242994), (2362, 0.0), (2363, 0.033113886379387), (2364, 0.01573612681216269), (2365, 0.042011712256222446), (2366, 0.038035368980772186), (2367, 0.05601264004687224), (2368, 0.0045802246985559075), (2369, 0.0498160929599369), (2370, 0.0), (2371, 0.013315687679585325), (2372, 0.026267461673417786), (2373, 0.0032048326358549884), (2374, 0.0), (2375, 0.004221788495573335), (2376, 0.0), (2377, 0.04359425512754314), (2378, 0.0064974095878040415), (2379, 0.017739876584036023), (2380, 0.02225305271748402), (2381, 0.027976829728962566), (2382, 0.06735523997872798), (2383, 0.006138789725181655), (2384, 0.004279968017520343), (2385, 0.037591291410058826), (2386, 0.0), (2387, 0.021228356799865886), (2388, 0.01137855761564006), (2389, 0.022382765501057132), (2390, 0.00926251103433434), (2391, 0.06501583639209584), (2392, 0.0), (2393, 0.0189075624650292), (2394, 0.004049264322380455), (2395, 0.0053157165919010705), (2396, 0.003877815591391959), (2397, 0.031197765244218027), (2398, 0.0), (2399, 0.008643621073996334), (2400, 0.0), (2401, 0.00821154757649763), (2402, 0.019266768882360365), (2403, 0.004429144063369621), (2404, 0.017832813037511934), (2405, 0.0), (2406, 0.0), (2407, 0.0), (2408, 0.03980246030017059), (2409, 0.0036600527319876953), (2410, 0.004215764321192154), (2411, 0.004351446761817224), (2412, 0.039214775491681134), (2413, 0.01342721188311841), (2414, 0.04049224474941726), (2415, 0.006699373441589276), (2416, 0.0), (2417, 0.0), (2418, 0.009824136277047315), (2419, 0.05524078029123665), (2420, 0.06684852877205942), (2421, 0.05219430718730923), (2422, 0.0037302991534440342), (2423, 0.01549114460507365), (2424, 0.026641516080627575), (2425, 0.0), (2426, 0.015001538350992813), (2427, 0.06091524874505369), (2428, 0.014126663877556383), (2429, 0.005117840342592254), (2430, 0.008572423555121623), (2431, 0.03299761716485435), (2432, 0.005321695398421254), (2433, 0.035261379776837756), (2434, 0.004594102747552755), (2435, 0.012138138710326679), (2436, 0.03428480430862964), (2437, 0.0), (2438, 0.0), (2439, 0.05998290098662133), (2440, 0.0382258237822849), (2441, 0.03473042868323112), (2442, 0.011904925545563069), (2443, 0.0280942263357762), (2444, 0.016977078864479973), (2445, 0.03023232063266456), (2446, 0.0035692582003227806), (2447, 0.028740621129020472), (2448, 0.011034487626470258), (2449, 0.029052083893522988), (2450, 0.03229953151551752), (2451, 0.06235816050877389), (2452, 0.02618881275029546), (2453, 0.0), (2454, 0.028858595287351275), (2455, 0.041691630111750054), (2456, 0.06526458521902492), (2457, 0.0), (2458, 0.004187870953848716), (2459, 0.006719985659982064), (2460, 0.0033490267221957257), (2461, 0.04488875799297654), (2462, 0.03524084813785157), (2463, 0.0), (2464, 0.004214623467659397), (2465, 0.003703709506952904), (2466, 0.008677261708149683), (2467, 0.003707625819017793), (2468, 0.010940861005913528), (2469, 0.01297565009782361), (2470, 0.02592336447083565), (2471, 0.0), (2472, 0.06615193017446366), (2473, 0.037740284558693334), (2474, 0.023920715180017697), (2475, 0.0), (2476, 0.07005596590570856), (2477, 0.0), (2478, 0.004411522958637896), (2479, 0.03552898541640029), (2480, 0.016430558680792177), (2481, 0.0), (2482, 0.0), (2483, 0.0050679810513285265), (2484, 0.07036555717561688), (2485, 0.009455967324992988), (2486, 0.004387562489165658), (2487, 0.030953648085993136), (2488, 0.004696432901461992), (2489, 0.009445111413011922), (2490, 0.0055388100108159765), (2491, 0.038080987913365914), (2492, 0.0038669403736931156), (2493, 0.02862550735749738), (2494, 0.004143171538314602), (2495, 0.09084752704879803), (2496, 0.0), (2497, 0.0035491876559397176), (2498, 0.0), (2499, 0.014041851233650647), (2500, 0.00536166776483984), (2501, 0.012862262710695916), (2502, 0.015379853917034562), (2503, 0.0), (2504, 0.0591535748023839), (2505, 0.0), (2506, 0.012842260224267033), (2507, 0.04088819343213104), (2508, 0.01689891808768925), (2509, 0.0031579968935219896), (2510, 0.0044051765589325585), (2511, 0.036994417658223845), (2512, 0.011042750818761896), (2513, 0.013716270181061347), (2514, 0.003452521529062586), (2515, 0.004771005163257855), (2516, 0.029101324663518693), (2517, 0.008032046482498136), (2518, 0.12094738937880926), (2519, 0.003963922252559109), (2520, 0.0), (2521, 0.03794223092349316), (2522, 0.041183376755775936), (2523, 0.031028073657413596), (2524, 0.0), (2525, 0.007956188759145302), (2526, 0.026057635911407223), (2527, 0.027391557455027568), (2528, 0.015390570708674889), (2529, 0.0055783771668157294), (2530, 0.05738379460378374), (2531, 0.01281062475568557), (2532, 0.05201621801757994), (2533, 0.0), (2534, 0.0), (2535, 0.004259258041392064), (2536, 0.005019964225404052), (2537, 0.005271693715464722), (2538, 0.0), (2539, 0.10089057287951674), (2540, 0.0052619611226023474), (2541, 0.020571696162757284), (2542, 0.09834510777300318), (2543, 0.004821930933128208), (2544, 0.0035315487123607136), (2545, 0.0), (2546, 0.004000508912551822), (2547, 0.0072703215935878), (2548, 0.0035508503173789915), (2549, 0.06765863872611684), (2550, 0.0), (2551, 0.011301288237959901), (2552, 0.0), (2553, 0.0037464661373058), (2554, 0.04942323022120905), (2555, 0.03470401773361939), (2556, 0.0), (2557, 0.0), (2558, 0.009269331338402367), (2559, 0.016827379616693908), (2560, 0.0), (2561, 0.004009198178821602), (2562, 0.0598009002223127), (2563, 0.0), (2564, 0.004774151309863212), (2565, 0.0), (2566, 0.0081255149321116), (2567, 0.015190186495295091), (2568, 0.010333722494869581), (2569, 0.010990420998849601), (2570, 0.00452296081733694), (2571, 0.0), (2572, 0.0), (2573, 0.004525636000036026), (2574, 0.028983088743109994), (2575, 0.012156784893795626), (2576, 0.006245934103992734), (2577, 0.026434849176408454), (2578, 0.0), (2579, 0.05323750307847056), (2580, 0.021648802479527135), (2581, 0.011701333719399958), (2582, 0.01254018545841172), (2583, 0.08185448533495246), (2584, 0.047383429128990864), (2585, 0.010317414200073833), (2586, 0.0038936156076227585), (2587, 0.015045351078468872), (2588, 0.00411620027784698), (2589, 0.0), (2590, 0.018219431659908684), (2591, 0.01102794356316637), (2592, 0.022962065386685306), (2593, 0.023878308633610568), (2594, 0.003599448996133949), (2595, 0.016457376471305393), (2596, 0.0), (2597, 0.006345790352472092), (2598, 0.02261094795720183), (2599, 0.0), (2600, 0.011813792463051045), (2601, 0.004007739858743016), (2602, 0.0), (2603, 0.010323906865434104), (2604, 0.013377168885986519), (2605, 0.03996136496937963), (2606, 0.0), (2607, 0.028546651723328723), (2608, 0.0067316953343299415), (2609, 0.03786309608438248), (2610, 0.008122478746893206), (2611, 0.0), (2612, 0.008160193257986422), (2613, 0.0), (2614, 0.028102024495716745), (2615, 0.02602965003588391), (2616, 0.024534591850005526), (2617, 0.0074493432913657846), (2618, 0.0), (2619, 0.009255594162254363), (2620, 0.0036669977914962487), (2621, 0.01612679575518786), (2622, 0.0046841072004533005), (2623, 0.0), (2624, 0.0), (2625, 0.006343151230565885), (2626, 0.02044870792287576), (2627, 0.0), (2628, 0.0), (2629, 0.0), (2630, 0.0), (2631, 0.0036494037055708746), (2632, 0.019557884157993276), (2633, 0.004034405704457586), (2634, 0.022478683861678492), (2635, 0.015362478867682064), (2636, 0.0), (2637, 0.021013178236541998), (2638, 0.0), (2639, 0.003770429846997969), (2640, 0.023090827338345745), (2641, 0.012266338142733127), (2642, 0.07192401641578258), (2643, 0.010927454534207855), (2644, 0.02949844646850644), (2645, 0.007105293002308657), (2646, 0.02601138915859576), (2647, 0.022351913553024773), (2648, 0.003962568644572724), (2649, 0.05295129908552962), (2650, 0.0432163338843833), (2651, 0.0), (2652, 0.02388153731711425), (2653, 0.0037083361305936006), (2654, 0.0215284992690159), (2655, 0.0), (2656, 0.015519987732922867), (2657, 0.013716180368063595), (2658, 0.0), (2659, 0.01348820355678552), (2660, 0.0060518734109237336), (2661, 0.014074690236075299), (2662, 0.008470892707203179), (2663, 0.007513937327719775), (2664, 0.0), (2665, 0.07123561262752703), (2666, 0.047217683230890345), (2667, 0.012759648938313977), (2668, 0.06507939424168344), (2669, 0.019389423742807842), (2670, 0.0059095704195480355), (2671, 0.014995123473001196), (2672, 0.028125072842632645), (2673, 0.0), (2674, 0.005082239752650958), (2675, 0.004028473387068308), (2676, 0.010737493319446303), (2677, 0.003744217873532248), (2678, 0.006258559943100284), (2679, 0.0), (2680, 0.005292216844851873), (2681, 0.07846245368201213), (2682, 0.005151054875264709), (2683, 0.0), (2684, 0.005565142373950843), (2685, 0.0039000120453363224), (2686, 0.0), (2687, 0.0037807952318799284), (2688, 0.02980887898817559), (2689, 0.005852585916677776), (2690, 0.040727162361676145), (2691, 0.013317629657371804), (2692, 0.0), (2693, 0.0037148822311611767), (2694, 0.0), (2695, 0.0), (2696, 0.027749756031572734), (2697, 0.03059236646340168), (2698, 0.0), (2699, 0.03329714232591466), (2700, 0.0), (2701, 0.006219531473165927), (2702, 0.004392149368268738), (2703, 0.005948876468805625), (2704, 0.025179598511701998), (2705, 0.0), (2706, 0.008902239846941884), (2707, 0.015023639317965999), (2708, 0.024078429300176757), (2709, 0.09942958349537766), (2710, 0.055620980212334074), (2711, 0.03555714232609351), (2712, 0.03651251823362736), (2713, 0.012540150863660745), (2714, 0.05697573328141587), (2715, 0.0346176062508089), (2716, 0.008927232732180037), (2717, 0.025843371420217788), (2718, 0.026382979175364828), (2719, 0.04300210137681652), (2720, 0.04496835138091911), (2721, 0.12137300939036473), (2722, 0.00539475819492109), (2723, 0.009939841879995536), (2724, 0.026951579477652553), (2725, 0.017697289116396817), (2726, 0.007936186797832253), (2727, 0.004622100777199176), (2728, 0.025563481255410227), (2729, 0.08592025955735806), (2730, 0.016109070002925413), (2731, 0.005158344562737162), (2732, 0.007838381848238483), (2733, 0.010295324388545033), (2734, 0.0030543428735049917), (2735, 0.0), (2736, 0.0), (2737, 0.006425224550654903), (2738, 0.02817095305586434), (2739, 0.0), (2740, 0.016392885781217833), (2741, 0.0176222433987823), (2742, 0.005126016754861643), (2743, 0.007946136764398527), (2744, 0.003982744980974512), (2745, 0.03694428514090528), (2746, 0.003907325268341999), (2747, 0.006659655126047555), (2748, 0.004178819392258107), (2749, 0.011649898909312152), (2750, 0.0), (2751, 0.005235567307148568), (2752, 0.008081299933554036), (2753, 0.0), (2754, 0.009817121107766306), (2755, 0.03019367129964561), (2756, 0.025954837027832044), (2757, 0.0), (2758, 0.03238624855838981), (2759, 0.0), (2760, 0.02544088200352697), (2761, 0.0), (2762, 0.020514808458689953), (2763, 0.01911381606550716), (2764, 0.005474928214487184), (2765, 0.06054524761100793), (2766, 0.0307708937134415), (2767, 0.011538076725822782), (2768, 0.007848088511877566), (2769, 0.004535868415948534), (2770, 0.05034275902491122), (2771, 0.0), (2772, 0.0165488511441159), (2773, 0.0), (2774, 0.013299562754675549), (2775, 0.03830832082799598), (2776, 0.008277759940094954), (2777, 0.03317316192909564), (2778, 0.017882642312514734), (2779, 0.0), (2780, 0.0057165805156312085), (2781, 0.0330994459721035), (2782, 0.06537403039410432), (2783, 0.016678592638377805), (2784, 0.0), (2785, 0.019958374516585782), (2786, 0.004115304536921081), (2787, 0.008903983584397425), (2788, 0.026011175984349315), (2789, 0.0225746255484759), (2790, 0.0), (2791, 0.02729566876470641), (2792, 0.009819063234123598), (2793, 0.028301832339390667), (2794, 0.013573485685757508), (2795, 0.018676750179195522), (2796, 0.00439782652156812), (2797, 0.004703654370087767), (2798, 0.0), (2799, 0.02413116158650125), (2800, 0.04901194749425067), (2801, 0.0), (2802, 0.0), (2803, 0.0116491595488617), (2804, 0.020396910139340287), (2805, 0.0033604339555078737), (2806, 0.017419437626780294), (2807, 0.03352528915862571), (2808, 0.0), (2809, 0.0), (2810, 0.019963987314582755), (2811, 0.010254351468406787), (2812, 0.01158437633427528), (2813, 0.027523985401202558), (2814, 0.008794105380617274), (2815, 0.023088198579178633), (2816, 0.003976233498508526), (2817, 0.004097698914761962), (2818, 0.04785503744498715), (2819, 0.023405099624015317), (2820, 0.06390275127269912), (2821, 0.0), (2822, 0.07593630545139131), (2823, 0.007276743574004909), (2824, 0.009029421226008623), (2825, 0.009250422615863252), (2826, 0.01286904772131697), (2827, 0.016215617365682607), (2828, 0.0), (2829, 0.0036817945094714533), (2830, 0.03950727216655879), (2831, 0.023649663823745826), (2832, 0.027919755662169553), (2833, 0.04288074036257594), (2834, 0.03441729006164619), (2835, 0.00772138897370202), (2836, 0.030436865887462056), (2837, 0.0), (2838, 0.04561191946401942), (2839, 0.008382179029176233), (2840, 0.024641837655400768), (2841, 0.03132926702937406), (2842, 0.004773400825299219), (2843, 0.03685785897488694), (2844, 0.011538190736518012), (2845, 0.03784358679122051), (2846, 0.004496577872474059), (2847, 0.07300729970200594), (2848, 0.0), (2849, 0.0), (2850, 0.030047561253070936), (2851, 0.04511384037735656), (2852, 0.008582953628618372), (2853, 0.0), (2854, 0.006131626463295132), (2855, 0.0032588554126587914), (2856, 0.04611507270200724), (2857, 0.042183146524021026), (2858, 0.005446925754308441), (2859, 0.0), (2860, 0.046795587414025744), (2861, 0.0), (2862, 0.005145301575463019), (2863, 0.0), (2864, 0.006275731713957097), (2865, 0.0), (2866, 0.019796847716001306), (2867, 0.012266372287248951), (2868, 0.029465135732015535), (2869, 0.0), (2870, 0.0), (2871, 0.014736162164919561), (2872, 0.0044235296135251186), (2873, 0.013961143428042035), (2874, 0.0035666284389387964), (2875, 0.004884212548074264), (2876, 0.03089253574566008), (2877, 0.011007255826065158), (2878, 0.0), (2879, 0.0), (2880, 0.010092255567551707), (2881, 0.006252914902843094), (2882, 0.07339157053231626), (2883, 0.0), (2884, 0.023567750753772647), (2885, 0.02197126673408399), (2886, 0.0), (2887, 0.01593751298826552), (2888, 0.013866163543227799), (2889, 0.0), (2890, 0.0), (2891, 0.03013522875588808), (2892, 0.0), (2893, 0.008715833508587177), (2894, 0.0), (2895, 0.015322056498788428), (2896, 0.01248261007264927), (2897, 0.03137454083632625), (2898, 0.013949549306591525), (2899, 0.005189984002643605), (2900, 0.0), (2901, 0.010848080534986511), (2902, 0.0), (2903, 0.006191450992093536), (2904, 0.0), (2905, 0.0), (2906, 0.0), (2907, 0.0), (2908, 0.011884623036337864), (2909, 0.03188306947812253), (2910, 0.0054018677215697565), (2911, 0.03314556925725047), (2912, 0.0037210404039068625), (2913, 0.033802863495641315), (2914, 0.004346051804046319), (2915, 0.0), (2916, 0.009464105161523151), (2917, 0.0), (2918, 0.014248179432109966), (2919, 0.0), (2920, 0.006660628138691864), (2921, 0.0), (2922, 0.012741000466495442), (2923, 0.0), (2924, 0.00445675663561973), (2925, 0.024629107198921613), (2926, 0.004018950511341937), (2927, 0.03744779901748615), (2928, 0.004962317690991617), (2929, 0.025167409705405694), (2930, 0.004225178227009103), (2931, 0.02441056607156448), (2932, 0.0), (2933, 0.003263510556488239), (2934, 0.03933056692341482), (2935, 0.03318835668603997), (2936, 0.0), (2937, 0.018381269328466857), (2938, 0.02211433674377307), (2939, 0.004786217741267473), (2940, 0.017789331475092554), (2941, 0.016849052107762195), (2942, 0.0), (2943, 0.005501179522364767), (2944, 0.013249570547027117), (2945, 0.0037617003532052977), (2946, 0.0), (2947, 0.005658766383197271), (2948, 0.05169227102853387), (2949, 0.0), (2950, 0.012164558362062067), (2951, 0.008467281475874795), (2952, 0.0), (2953, 0.0), (2954, 0.05647552013327724), (2955, 0.01307176851194162), (2956, 0.008148025099795064), (2957, 0.0), (2958, 0.005143519275823507), (2959, 0.005812112417740074), (2960, 0.01305580255238931), (2961, 0.0), (2962, 0.02549882770874633), (2963, 0.0058949330233836125), (2964, 0.009903876412472704), (2965, 0.02680549277390496), (2966, 0.0), (2967, 0.0), (2968, 0.0041945971948759535), (2969, 0.004579072772304845), (2970, 0.022676444690446832), (2971, 0.008147629895903185), (2972, 0.011586550478481268), (2973, 0.016628332534169114), (2974, 0.0), (2975, 0.014560025067294846), (2976, 0.018580254950705047), (2977, 0.0), (2978, 0.004178554254987399), (2979, 0.020242572568874406), (2980, 0.008286567462539715), (2981, 0.0), (2982, 0.004373348928989254), (2983, 0.004850016505728451), (2984, 0.015215555045339106), (2985, 0.0), (2986, 0.050730982042377484), (2987, 0.023122317737508), (2988, 0.0), (2989, 0.007693064614064899), (2990, 0.012605463112807951), (2991, 0.0), (2992, 0.008730982528791231), (2993, 0.0), (2994, 0.0038678030956873217), (2995, 0.04604800419781226), (2996, 0.0), (2997, 0.03690577036955281), (2998, 0.03190171538746978), (2999, 0.003821097976753666), (3000, 0.0), (3001, 0.01836579037852696), (3002, 0.005579413713708554), (3003, 0.013655005188628298), (3004, 0.0), (3005, 0.01675065414635273), (3006, 0.0), (3007, 0.0), (3008, 0.0), (3009, 0.005381001688335459), (3010, 0.0), (3011, 0.0), (3012, 0.0), (3013, 0.0), (3014, 0.0), (3015, 0.0), (3016, 0.007890156668574264), (3017, 0.00456581511391114), (3018, 0.07053230255803172), (3019, 0.0), (3020, 0.00466522949535058), (3021, 0.03407089491815961), (3022, 0.006422970487500774), (3023, 0.015680036641855626), (3024, 0.004567157883517255), (3025, 0.0), (3026, 0.004245763634330479), (3027, 0.007603146094504054), (3028, 0.0), (3029, 0.0), (3030, 0.0), (3031, 0.034470368193223605), (3032, 0.022418600602222307), (3033, 0.06084427688506906), (3034, 0.0038678951017620876), (3035, 0.0), (3036, 0.0), (3037, 0.004056383860651699), (3038, 0.004019946707726668), (3039, 0.004348586849630991), (3040, 0.0053666653416349795), (3041, 0.004056282707783851), (3042, 0.005206872776789704), (3043, 0.027054506737275455), (3044, 0.01020708465693218), (3045, 0.05195063583227844), (3046, 0.0), (3047, 0.05358268016355158), (3048, 0.009817656028200412), (3049, 0.0), (3050, 0.003520807482301032), (3051, 0.0), (3052, 0.01265927586138397), (3053, 0.0), (3054, 0.0046176027710840796), (3055, 0.0), (3056, 0.0), (3057, 0.0), (3058, 0.015588016462538927), (3059, 0.0059146566347319345), (3060, 0.00390627363608377), (3061, 0.024958683929442043), (3062, 0.018452095966353103), (3063, 0.04812610645706398), (3064, 0.0060075355494063265), (3065, 0.01087284782414965), (3066, 0.012009641665712894), (3067, 0.03700681413320627), (3068, 0.03921441768596152), (3069, 0.009050774404855449), (3070, 0.008364557182847928), (3071, 0.0035994580740837476), (3072, 0.010772022881946456), (3073, 0.02207999683781741), (3074, 0.026101656638511057), (3075, 0.0), (3076, 0.0), (3077, 0.007258174430651605), (3078, 0.01579542356070065), (3079, 0.0), (3080, 0.06629758631203876), (3081, 0.02085092143822387), (3082, 0.0034178791082205137), (3083, 0.029804258715961707), (3084, 0.0342797894192754), (3085, 0.021106709468997387), (3086, 0.010012036431145878), (3087, 0.0048482057923435505), (3088, 0.005714456414920751), (3089, 0.014934863845185147), (3090, 0.0037789170778955135), (3091, 0.013165340689552038), (3092, 0.0), (3093, 0.0), (3094, 0.0), (3095, 0.0), (3096, 0.018471944625962994), (3097, 0.01032536041584969), (3098, 0.006982096012113405), (3099, 0.05310537451251185), (3100, 0.03732618938417504), (3101, 0.0), (3102, 0.003916631732912512), (3103, 0.0), (3104, 0.02122479649700754), (3105, 0.006951325813728337), (3106, 0.0673246774201396), (3107, 0.020924808651303296), (3108, 0.075892195190853), (3109, 0.004092754024344961), (3110, 0.0), (3111, 0.01512448465513118), (3112, 0.04763706967144793), (3113, 0.003919549467236858), (3114, 0.011833671704075684), (3115, 0.014577288032531608), (3116, 0.009284715753949195), (3117, 0.0), (3118, 0.0), (3119, 0.0), (3120, 0.02948549593939425), (3121, 0.01468922828201078), (3122, 0.0), (3123, 0.01130481987329245), (3124, 0.044779722731694074), (3125, 0.0), (3126, 0.005287303586323464), (3127, 0.0037223862289549868), (3128, 0.0), (3129, 0.010997795846005479), (3130, 0.005036727447295734), (3131, 0.013695056882093284), (3132, 0.06472405953854836), (3133, 0.05738107528658078), (3134, 0.06371642971046564), (3135, 0.041818459443460125), (3136, 0.011938876575859177), (3137, 0.05237666446510099), (3138, 0.021207304590804128), (3139, 0.03927711982825434), (3140, 0.0), (3141, 0.027785299966000168), (3142, 0.016995049265870248), (3143, 0.09386313649603496), (3144, 0.006291128765475596), (3145, 0.02264695958359702), (3146, 0.031030530351892727), (3147, 0.0071550495074162), (3148, 0.0), (3149, 0.0037067192520281378), (3150, 0.004020699136158327), (3151, 0.01687704805579291), (3152, 0.005680697541021355), (3153, 0.017065858480697665), (3154, 0.0), (3155, 0.003869176662445554), (3156, 0.029118384225827815), (3157, 0.0), (3158, 0.03043945720127864), (3159, 0.0), (3160, 0.0), (3161, 0.03686499747297874), (3162, 0.004007206885539773), (3163, 0.01393272479175929), (3164, 0.0032543142556207645), (3165, 0.006341316344776198), (3166, 0.06626325659999026), (3167, 0.0), (3168, 0.01054407726214816), (3169, 0.03409969628831315), (3170, 0.0), (3171, 0.0), (3172, 0.05646352722393654), (3173, 0.0), (3174, 0.005506282529493996), (3175, 0.004117920156994926), (3176, 0.0), (3177, 0.0036504708141889487), (3178, 0.006075812394634665), (3179, 0.0), (3180, 0.010311128265046973), (3181, 0.08403449845264176), (3182, 0.007829350802793312), (3183, 0.00420814426233883), (3184, 0.021512206116763074), (3185, 0.00837737450620306), (3186, 0.0), (3187, 0.012935382405026383), (3188, 0.003838508941558999), (3189, 0.01291454637071672), (3190, 0.004452982517066235), (3191, 0.03473480326627795), (3192, 0.05833575952508033), (3193, 0.0462429531756354), (3194, 0.051159676801842385), (3195, 0.01971011237592651), (3196, 0.0), (3197, 0.018554071247536438), (3198, 0.003969854683236456), (3199, 0.07398818504717838), (3200, 0.0), (3201, 0.0), (3202, 0.013917663262187782), (3203, 0.0046281314014581625), (3204, 0.016454667551243453), (3205, 0.01641565723613181), (3206, 0.015487539836661221), (3207, 0.03609623963773053), (3208, 0.03248466984617392), (3209, 0.003930205479589252), (3210, 0.005568993178920251), (3211, 0.007315527257813971), (3212, 0.017873355288148908), (3213, 0.004627998078206819), (3214, 0.0036687701175100408), (3215, 0.010705408212852806), (3216, 0.009222902404656272), (3217, 0.004952152818305972), (3218, 0.05781143751534461), (3219, 0.011041895587644538), (3220, 0.04393983999376019), (3221, 0.030289282669241236), (3222, 0.0), (3223, 0.00838612849297309), (3224, 0.004000921199239217), (3225, 0.005657653550656506), (3226, 0.0), (3227, 0.10190203410819865), (3228, 0.0), (3229, 0.012766286065351129), (3230, 0.010699926632216231), (3231, 0.03428039749811292), (3232, 0.049173620149717864), (3233, 0.0), (3234, 0.013436003202750076), (3235, 0.0), (3236, 0.01307361544738753), (3237, 0.0), (3238, 0.02557985430899208), (3239, 0.009689984392220992), (3240, 0.0), (3241, 0.005759853389006093), (3242, 0.0), (3243, 0.0), (3244, 0.0035203014097532743), (3245, 0.0038827348421435234), (3246, 0.0036840399027353123), (3247, 0.0049933297038153), (3248, 0.0), (3249, 0.004806349780981732), (3250, 0.003604135263106412), (3251, 0.0), (3252, 0.0), (3253, 0.01064846664457337), (3254, 0.0), (3255, 0.0), (3256, 0.042820241169894885), (3257, 0.004630490147237539), (3258, 0.004178732135420295), (3259, 0.009875351276790567), (3260, 0.003770393515905277), (3261, 0.0), (3262, 0.011925351871069797), (3263, 0.00601467433294934), (3264, 0.009786248487438831), (3265, 0.007920536420435663), (3266, 0.0053159620846665555), (3267, 0.008496575407715309), (3268, 0.0), (3269, 0.017927184064078994), (3270, 0.036284984481498674), (3271, 0.00830447609472908), (3272, 0.0881890566760847), (3273, 0.0), (3274, 0.0), (3275, 0.0064529534907249095), (3276, 0.019323163771017726), (3277, 0.004046358472907524), (3278, 0.0), (3279, 0.0), (3280, 0.01864698982997925), (3281, 0.0), (3282, 0.03597707247180581), (3283, 0.003914266725858761), (3284, 0.02777863755982307), (3285, 0.01822440997548548), (3286, 0.06791015762434503), (3287, 0.09981416806103288), (3288, 0.003759980003941149), (3289, 0.003938295479547298), (3290, 0.003954745566323007), (3291, 0.0124547368073947), (3292, 0.0), (3293, 0.0), (3294, 0.008548275890828098), (3295, 0.034442721691184966), (3296, 0.0), (3297, 0.023011132173208312), (3298, 0.01683862684687023), (3299, 0.0), (3300, 0.0), (3301, 0.0), (3302, 0.0), (3303, 0.003910668929360779), (3304, 0.03351196958768334), (3305, 0.02861898606733121), (3306, 0.00506157106112118), (3307, 0.0), (3308, 0.004549535885793421), (3309, 0.007339169786366693), (3310, 0.00976854276448552), (3311, 0.008470438756484035), (3312, 0.006412552078255868), (3313, 0.00756671542872762), (3314, 0.0), (3315, 0.0036710422879785006), (3316, 0.0), (3317, 0.0), (3318, 0.0), (3319, 0.007186014131579328), (3320, 0.003609319828310225), (3321, 0.003555651707194153), (3322, 0.0), (3323, 0.05449147482909855), (3324, 0.004516285760353049), (3325, 0.0), (3326, 0.0), (3327, 0.06485835719018829), (3328, 0.019306925940085623), (3329, 0.025361693360151653), (3330, 0.009236547760380288), (3331, 0.0), (3332, 0.00947604570024423), (3333, 0.02108571294257746), (3334, 0.0), (3335, 0.01790121697128691), (3336, 0.004969353516245455), (3337, 0.0044340993444998925), (3338, 0.008634658506047338), (3339, 0.004751292845973212), (3340, 0.014660115643681512), (3341, 0.009294064815480927), (3342, 0.01351956269137088), (3343, 0.07146984076478162), (3344, 0.014074828074538364), (3345, 0.0), (3346, 0.0072603222708630495), (3347, 0.0), (3348, 0.0037189924954250187), (3349, 0.003986924261735679), (3350, 0.012126775664534564), (3351, 0.004010754078059063), (3352, 0.026651783266451484), (3353, 0.02484611045073811), (3354, 0.0), (3355, 0.0), (3356, 0.0), (3357, 0.004776748728788362), (3358, 0.021162782529887653), (3359, 0.020286530040532175), (3360, 0.020437921903301355), (3361, 0.012117414865308748), (3362, 0.0), (3363, 0.0), (3364, 0.015135471089576573), (3365, 0.003893445615385308), (3366, 0.03355615299431842), (3367, 0.10128158583240897), (3368, 0.005390277654286317), (3369, 0.0), (3370, 0.03139931741846321), (3371, 0.004256977288750218), (3372, 0.0), (3373, 0.01053927697033481), (3374, 0.014677050469094208), (3375, 0.01979163106022847), (3376, 0.0), (3377, 0.008518466682888732), (3378, 0.00401003406262706), (3379, 0.008283720604518131), (3380, 0.0), (3381, 0.017223583632109095), (3382, 0.004009919193674342), (3383, 0.01060285704766634), (3384, 0.006472675131441634), (3385, 0.0), (3386, 0.0038937851003441656), (3387, 0.008038831861865759), (3388, 0.004048906736800417), (3389, 0.011305181286945482), (3390, 0.023840919334248978), (3391, 0.0), (3392, 0.021721609739144714), (3393, 0.003305092780110181), (3394, 0.00634859931327348), (3395, 0.03191840151947102), (3396, 0.0), (3397, 0.031181616401358844), (3398, 0.0), (3399, 0.0), (3400, 0.0037581491315060458), (3401, 0.00982371714843698), (3402, 0.003744815267543877), (3403, 0.0), (3404, 0.040323712274676585), (3405, 0.08411448432088961), (3406, 0.03536488155175932), (3407, 0.0), (3408, 0.004444010901981439), (3409, 0.0), (3410, 0.1287914100190594), (3411, 0.0033715569030314824), (3412, 0.0), (3413, 0.004615769060081014), (3414, 0.0), (3415, 0.013721549667122458), (3416, 0.02552578029035144), (3417, 0.010207746030945484), (3418, 0.006974944182908938), (3419, 0.042352474749328024), (3420, 0.0), (3421, 0.0026586402746219618), (3422, 0.02517909510558832), (3423, 0.0), (3424, 0.01025933821336988), (3425, 0.0), (3426, 0.015393418084959051), (3427, 0.04011018179786442), (3428, 0.003970185275316251), (3429, 0.010055167704392867), (3430, 0.003198698217371564), (3431, 0.0), (3432, 0.005480578903178516), (3433, 0.0), (3434, 0.0), (3435, 0.0), (3436, 0.009327699737295452), (3437, 0.0), (3438, 0.013665523135833862), (3439, 0.014426503196568585), (3440, 0.01718315039059337), (3441, 0.00547567579608829), (3442, 0.004076224707231485), (3443, 0.009236046963903165), (3444, 0.06296792984099257), (3445, 0.005654234859087019), (3446, 0.020569295526864255), (3447, 0.0075102305258609005), (3448, 0.06035862930199397), (3449, 0.014167688879909756), (3450, 0.0064121043648617095), (3451, 0.005917628321250324), (3452, 0.0), (3453, 0.006072613123792103), (3454, 0.01252155575841861), (3455, 0.0), (3456, 0.018325735025091976), (3457, 0.025183942436959574), (3458, 0.016373238057929666), (3459, 0.01269422519761397), (3460, 0.008522511467078341), (3461, 0.046042351438406584), (3462, 0.003890606290103069), (3463, 0.013204699180907303), (3464, 0.009924087695787648), (3465, 0.005244087320785334), (3466, 0.005197533822777986), (3467, 0.01296432409853767), (3468, 0.005950262369756279), (3469, 0.014335177987322529), (3470, 0.0), (3471, 0.0), (3472, 0.029440689039667456), (3473, 0.026830523888599214), (3474, 0.0), (3475, 0.006246723858174169), (3476, 0.05470571218943115), (3477, 0.0038105954132633124), (3478, 0.02389893457292055), (3479, 0.005132082931498294), (3480, 0.0), (3481, 0.023115293787017432), (3482, 0.08574104703526843), (3483, 0.0), (3484, 0.0), (3485, 0.024406147905540458), (3486, 0.013069872428659767), (3487, 0.0), (3488, 0.02088042323275143), (3489, 0.003961203139070301), (3490, 0.003690349011876545), (3491, 0.0), (3492, 0.03545446869290418), (3493, 0.004022190532510954), (3494, 0.003867554440586895), (3495, 0.0), (3496, 0.0041249738315459784), (3497, 0.03479709851164285), (3498, 0.03201738012882922), (3499, 0.03256222006672262), (3500, 0.003565277402417911), (3501, 0.00942096159927264), (3502, 0.0), (3503, 0.026336626618886718), (3504, 0.017754408945643202), (3505, 0.02639934324800888), (3506, 0.0), (3507, 0.00572334340535138), (3508, 0.0037818690978934227), (3509, 0.024366332219931893), (3510, 0.022935336138345672), (3511, 0.0), (3512, 0.029159620966072653), (3513, 0.00981081403729214), (3514, 0.009775605676225527), (3515, 0.026573182959623874), (3516, 0.024028791706501403), (3517, 0.019689474970387543), (3518, 0.013050162818492198), (3519, 0.004230880162995997), (3520, 0.012958467949973832), (3521, 0.0), (3522, 0.005650533946726145), (3523, 0.0), (3524, 0.009941015129479367), (3525, 0.004799843615950395), (3526, 0.003932775489443493), (3527, 0.0), (3528, 0.0050858319469378405), (3529, 0.039218651884382214), (3530, 0.0), (3531, 0.0180717166668269), (3532, 0.014738119701634706), (3533, 0.008026444338447514), (3534, 0.0), (3535, 0.0), (3536, 0.008766879798327095), (3537, 0.03483483549973706), (3538, 0.016963676366876637), (3539, 0.02926118546062542), (3540, 0.009854722980241457), (3541, 0.0038656181307000193), (3542, 0.0), (3543, 0.030806362947512794), (3544, 0.004677780525066068), (3545, 0.04020948614368828), (3546, 0.005431194697338126), (3547, 0.031163875099731522), (3548, 0.0), (3549, 0.003974308608974425), (3550, 0.0), (3551, 0.0), (3552, 0.006250064920766675), (3553, 0.0386982384515545), (3554, 0.02156326092598835), (3555, 0.012406386366925476), (3556, 0.004936517002063561), (3557, 0.01657112893624188), (3558, 0.0), (3559, 0.003221039482626101), (3560, 0.024796347393078386), (3561, 0.012563869480474901), (3562, 0.0603622296766148), (3563, 0.011203176936945863), (3564, 0.0), (3565, 0.02742822330630504), (3566, 0.006838041073302028), (3567, 0.006974593857321649), (3568, 0.012276321904485002), (3569, 0.0), (3570, 0.003818845980629864), (3571, 0.011788737129877578), (3572, 0.004254610316535438), (3573, 0.0), (3574, 0.03939421573107418), (3575, 0.0031045859792649777), (3576, 0.0), (3577, 0.004749174876033073), (3578, 0.018376654913299074), (3579, 0.1107236673140242), (3580, 0.0037650397658832995), (3581, 0.032675165318218534), (3582, 0.016033597044384708), (3583, 0.0), (3584, 0.004127119357008969), (3585, 0.06957202468009223), (3586, 0.01377607023506904), (3587, 0.039987604737449646), (3588, 0.006783368563897584), (3589, 0.003543768422506627), (3590, 0.0), (3591, 0.00977301213312284), (3592, 0.004777806367813325), (3593, 0.015595033251554462), (3594, 0.0), (3595, 0.01782650827829861), (3596, 0.0), (3597, 0.013100645927799484), (3598, 0.009845961649571855), (3599, 0.0040124491614534795), (3600, 0.03309279841738064), (3601, 0.004098379818560281), (3602, 0.005428603822098041), (3603, 0.009542621877887472), (3604, 0.05122392713599873), (3605, 0.005277960770545214), (3606, 0.012533096901804838), (3607, 0.08635503894645012), (3608, 0.0), (3609, 0.005191363403187091), (3610, 0.014517956156247618), (3611, 0.0), (3612, 0.02425111641154091), (3613, 0.010421596625098664), (3614, 0.0), (3615, 0.0), (3616, 0.015285775680861036), (3617, 0.0), (3618, 0.0), (3619, 0.0), (3620, 0.05783473059143395), (3621, 0.004521958648682023), (3622, 0.06513737664880043), (3623, 0.01525623644783456), (3624, 0.0), (3625, 0.0), (3626, 0.040097125487191174), (3627, 0.0), (3628, 0.04403236327583814), (3629, 0.012503766127751767), (3630, 0.0239650057312496), (3631, 0.050709376303121736), (3632, 0.012564272435498198), (3633, 0.024598201270124492), (3634, 0.007836139379657926), (3635, 0.04087448866432448), (3636, 0.0), (3637, 0.0048282330639174255), (3638, 0.020631330438797498), (3639, 0.02735155892946072), (3640, 0.01033609045852614), (3641, 0.010741937845626964), (3642, 0.0059869385169697325), (3643, 0.008583572576472572), (3644, 0.0037756339201797215), (3645, 0.02243357017673408), (3646, 0.011623029626238679), (3647, 0.0), (3648, 0.022012425204614335), (3649, 0.004359546832146942), (3650, 0.02184617746255365), (3651, 0.04466717389760768), (3652, 0.004246177300510184), (3653, 0.0), (3654, 0.0), (3655, 0.0), (3656, 0.008541455202316046), (3657, 0.01080231531517533), (3658, 0.007868562952849411), (3659, 0.0), (3660, 0.005324113462216418), (3661, 0.0), (3662, 0.003840964784788768), (3663, 0.0), (3664, 0.0), (3665, 0.0038337436360516225), (3666, 0.0), (3667, 0.0), (3668, 0.004673108504514211), (3669, 0.0), (3670, 0.016714685279569406), (3671, 0.03418829316843241), (3672, 0.0), (3673, 0.04396120607327481), (3674, 0.0032438813997453407), (3675, 0.0), (3676, 0.009462734937620142), (3677, 0.0), (3678, 0.06336479779362328), (3679, 0.0), (3680, 0.006243197693902571), (3681, 0.0042660456442755006), (3682, 0.00938140649155632), (3683, 0.05886602062993783), (3684, 0.03129825274865023), (3685, 0.06072985962763104), (3686, 0.004568485617622309), (3687, 0.0), (3688, 0.00425809197999912), (3689, 0.0), (3690, 0.013081678228776827), (3691, 0.0), (3692, 0.04023525224385868), (3693, 0.010921777479867048), (3694, 0.01793579704952504), (3695, 0.017204259282698794), (3696, 0.008937950180110716), (3697, 0.01410211461026458), (3698, 0.005483432519305383), (3699, 0.0), (3700, 0.012158801233366738), (3701, 0.008662060387600805), (3702, 0.0), (3703, 0.008240700357000606), (3704, 0.009130715043259501), (3705, 0.0), (3706, 0.022400262339888708), (3707, 0.005619145957398101), (3708, 0.006374594501267551), (3709, 0.059268012763839945), (3710, 0.005869483279193648), (3711, 0.008539188741330276), (3712, 0.0036401643033719053), (3713, 0.0), (3714, 0.0), (3715, 0.012083058503044211), (3716, 0.011047803798560726), (3717, 0.0), (3718, 0.03193380253697296), (3719, 0.0), (3720, 0.03153660123341647), (3721, 0.05179792669999963), (3722, 0.012638355720053063), (3723, 0.035266384516227836), (3724, 0.005854094292263638), (3725, 0.02627472292175182), (3726, 0.014187346536255767), (3727, 0.00918924903781767), (3728, 0.04720053860918921), (3729, 0.0), (3730, 0.004200880883550425), (3731, 0.0), (3732, 0.019820734202151222), (3733, 0.01980697215990399), (3734, 0.005207284954188174), (3735, 0.03844799366288269), (3736, 0.007217830852062176), (3737, 0.0), (3738, 0.005049908185501882), (3739, 0.03608309476288528), (3740, 0.004863433539564545), (3741, 0.05417325155964317), (3742, 0.0167354652938857), (3743, 0.03797314906624182), (3744, 0.015578647767112834), (3745, 0.0), (3746, 0.008317491983677561), (3747, 0.05970854976922848), (3748, 0.003324949333107916), (3749, 0.01010532205938165), (3750, 0.0), (3751, 0.006944649360705886), (3752, 0.014356112855741947), (3753, 0.019107358572766485), (3754, 0.004456640563630109), (3755, 0.003396321091890329), (3756, 0.0), (3757, 0.0), (3758, 0.004596151793932447), (3759, 0.0043997363670170925), (3760, 0.0), (3761, 0.0), (3762, 0.0), (3763, 0.01448664317199242), (3764, 0.007594655423385713), (3765, 0.012735806957838854), (3766, 0.0), (3767, 0.012043794001191963), (3768, 0.0), (3769, 0.0), (3770, 0.0), (3771, 0.005979957002398933), (3772, 0.014920277524139169), (3773, 0.01251974302416297), (3774, 0.0), (3775, 0.016176630572426447), (3776, 0.004728422099505936), (3777, 0.033649367043725634), (3778, 0.01810668868496476), (3779, 0.0), (3780, 0.0), (3781, 0.0), (3782, 0.013711447177959055), (3783, 0.07214858181630324), (3784, 0.0), (3785, 0.01390178736792485), (3786, 0.012282162781404694), (3787, 0.014014047402947292), (3788, 0.0), (3789, 0.004538394362000905), (3790, 0.028546716460039874), (3791, 0.04893863894436041), (3792, 0.003908028949077945), (3793, 0.009111366936101662), (3794, 0.03064385331782351), (3795, 0.011450580968146698), (3796, 0.029819458160623213), (3797, 0.0), (3798, 0.013277807325509556), (3799, 0.0), (3800, 0.005070014136464909), (3801, 0.0), (3802, 0.016193814742661426), (3803, 0.030399423765130693), (3804, 0.0), (3805, 0.034644039539796743), (3806, 0.0), (3807, 0.031237360708982177), (3808, 0.004266745514613859), (3809, 0.02891178215698729), (3810, 0.03090625590844933), (3811, 0.0036227412369175096), (3812, 0.06378428497613303), (3813, 0.009219009618261456), (3814, 0.021731622636836707), (3815, 0.0), (3816, 0.02586939458652668), (3817, 0.05278374985840514), (3818, 0.040459365943307145), (3819, 0.0), (3820, 0.004344468445173181), (3821, 0.0), (3822, 0.04393003505514325), (3823, 0.0), (3824, 0.0036678063184739456), (3825, 0.0), (3826, 0.024031524784834404), (3827, 0.0), (3828, 0.0), (3829, 0.0), (3830, 0.0), (3831, 0.0), (3832, 0.009382727237428645), (3833, 0.0), (3834, 0.013696273798712837), (3835, 0.0), (3836, 0.012786756876602247), (3837, 0.037511095422353834), (3838, 0.0), (3839, 0.0259044657824647), (3840, 0.013122386581748236), (3841, 0.007577157943524004), (3842, 0.003497723060686474), (3843, 0.021728762254055588), (3844, 0.004815599020748883), (3845, 0.029293748687505186), (3846, 0.022645035166577596), (3847, 0.024465996816038033), (3848, 0.049537347694908224), (3849, 0.013295370905555562), (3850, 0.00590022741071776), (3851, 0.004399888600668496), (3852, 0.015188696707812848), (3853, 0.0), (3854, 0.0), (3855, 0.0032607392815234893), (3856, 0.003325788764591594), (3857, 0.026544370846437893), (3858, 0.014095729160315453), (3859, 0.003634831459325821), (3860, 0.00500575603363924), (3861, 0.0034027824089389196), (3862, 0.0057661294178140395), (3863, 0.0), (3864, 0.0036265035684165726), (3865, 0.03925141230339757), (3866, 0.004429666633077155), (3867, 0.0), (3868, 0.0036769923374612144), (3869, 0.01403223917038581), (3870, 0.0332626524622827), (3871, 0.08368797305088607), (3872, 0.0), (3873, 0.0), (3874, 0.0), (3875, 0.003123518179710223), (3876, 0.0), (3877, 0.039523388946657884), (3878, 0.01218115819614616), (3879, 0.003725680790958394), (3880, 0.0), (3881, 0.0), (3882, 0.004044481014170021), (3883, 0.0), (3884, 0.0), (3885, 0.01935357652280197), (3886, 0.003690590167117393), (3887, 0.0), (3888, 0.003802340248507914), (3889, 0.023072661765578678), (3890, 0.024300173067293408), (3891, 0.0), (3892, 0.015979357366550304), (3893, 0.0), (3894, 0.007410179982480582), (3895, 0.034180673321816644), (3896, 0.003705569615069296), (3897, 0.0391816925077237), (3898, 0.0), (3899, 0.0), (3900, 0.0), (3901, 0.0), (3902, 0.0), (3903, 0.008338265078647383), (3904, 0.0), (3905, 0.004064937037218114), (3906, 0.031334308587115826), (3907, 0.01328065524507591), (3908, 0.033109568718280656), (3909, 0.0035853875822436745), (3910, 0.0), (3911, 0.011074617349235814), (3912, 0.012558213550286986), (3913, 0.0), (3914, 0.0067277123668457875), (3915, 0.010066751302863641), (3916, 0.0032745264011370405), (3917, 0.012313626546131808), (3918, 0.0), (3919, 0.004017208194492307), (3920, 0.0), (3921, 0.004428169231492666), (3922, 0.004743945775642446), (3923, 0.02305636612029834), (3924, 0.0), (3925, 0.0), (3926, 0.05142072571781507), (3927, 0.01379451673654076), (3928, 0.0), (3929, 0.0), (3930, 0.003978461740854908), (3931, 0.004495414866503254), (3932, 0.0), (3933, 0.053116248712767995), (3934, 0.00816161850542799), (3935, 0.021842160151061687), (3936, 0.0048614454910931625), (3937, 0.05664074057870263), (3938, 0.03087724023338237), (3939, 0.0), (3940, 0.0), (3941, 0.019131808269390174), (3942, 0.0), (3943, 0.029522070324713063), (3944, 0.0), (3945, 0.0), (3946, 0.004281495621755243), (3947, 0.006380122379608605), (3948, 0.007470472659669496), (3949, 0.005282532956951666), (3950, 0.04225936981546683), (3951, 0.0), (3952, 0.004406964494968245), (3953, 0.0050233515780544824), (3954, 0.0), (3955, 0.035777396154652745), (3956, 0.0), (3957, 0.022385403644657565), (3958, 0.004734594286665028), (3959, 0.020744417115490077), (3960, 0.01976216716633682), (3961, 0.07101027493484663), (3962, 0.004315957528434585), (3963, 0.012704876179266158), (3964, 0.004291863241702949), (3965, 0.05318600676003081), (3966, 0.0), (3967, 0.008496312857565056), (3968, 0.03174792559719046), (3969, 0.008074178655769971), (3970, 0.0), (3971, 0.0030990699478361905), (3972, 0.01466153338635082), (3973, 0.008183005791138388), (3974, 0.0), (3975, 0.0), (3976, 0.03594283862949014), (3977, 0.013825172170142869), (3978, 0.005266065708058841), (3979, 0.013590548313805576), (3980, 0.06178020193653497), (3981, 0.0), (3982, 0.01279748648509239), (3983, 0.0), (3984, 0.004041463154068758), (3985, 0.0), (3986, 0.0), (3987, 0.0), (3988, 0.03491865847995049), (3989, 0.0), (3990, 0.011662405702089693), (3991, 0.08509845190622531), (3992, 0.004343913649854341), (3993, 0.005101034478288827), (3994, 0.037944608372624734), (3995, 0.0), (3996, 0.004581947698687664), (3997, 0.005877640193603112), (3998, 0.009021246409575865), (3999, 0.0), (4000, 0.0), (4001, 0.009379674764833583), (4002, 0.0), (4003, 0.004245023859001748), (4004, 0.0), (4005, 0.005899379821057852), (4006, 0.0), (4007, 0.005464282761930607), (4008, 0.03408909351748042), (4009, 0.028553155876926965), (4010, 0.065158039649185), (4011, 0.022444669252491802), (4012, 0.012464407641066742), (4013, 0.0), (4014, 0.0), (4015, 0.012199614056385345), (4016, 0.0165022258429219), (4017, 0.0), (4018, 0.006550775630546289), (4019, 0.0), (4020, 0.022797914355756562), (4021, 0.011809079488128977), (4022, 0.02543348316894205), (4023, 0.004538245614526658), (4024, 0.0), (4025, 0.013601942613767777), (4026, 0.008467944304096548), (4027, 0.004057874595248924), (4028, 0.0), (4029, 0.012848686481308498), (4030, 0.0), (4031, 0.02287912960621279), (4032, 0.0), (4033, 0.005824514592902169), (4034, 0.03428349916745935), (4035, 0.0033437424046454662), (4036, 0.010867744976677616), (4037, 0.045622598829678715), (4038, 0.005902436955958956), (4039, 0.005381950249702178), (4040, 0.04137167970451695), (4041, 0.01294720393262827), (4042, 0.010236467334928263), (4043, 0.0), (4044, 0.005009449584430933), (4045, 0.005832744052714366), (4046, 0.006052533037899035), (4047, 0.0), (4048, 0.04274525398924055), (4049, 0.0039001170563746695), (4050, 0.0), (4051, 0.004287313235834797), (4052, 0.004061473265844603), (4053, 0.0), (4054, 0.0040748083194247185), (4055, 0.011545711468420662), (4056, 0.012731525845399732), (4057, 0.0), (4058, 0.004779925823524288), (4059, 0.028364038414602156), (4060, 0.0), (4061, 0.004197567492607145), (4062, 0.0), (4063, 0.0), (4064, 0.00426306564726776), (4065, 0.0), (4066, 0.02411988384046703), (4067, 0.013611223483012377), (4068, 0.0056089554609240365), (4069, 0.0), (4070, 0.012803051989129025), (4071, 0.0036360506634954236), (4072, 0.0), (4073, 0.0037455658760009785), (4074, 0.030698514080635172), (4075, 0.0), (4076, 0.00784245205426667), (4077, 0.01410458644347019), (4078, 0.0433265087507842), (4079, 0.0), (4080, 0.0), (4081, 0.0), (4082, 0.0), (4083, 0.03768940285529221), (4084, 0.004941418806948394), (4085, 0.0), (4086, 0.05553183789532075), (4087, 0.04192286178536711), (4088, 0.02352193685492106), (4089, 0.0), (4090, 0.030407219586655654), (4091, 0.014065143580178418), (4092, 0.010488364868009198), (4093, 0.0274099126101614), (4094, 0.020070652139726017), (4095, 0.0046854548709734795), (4096, 0.05518234608453319), (4097, 0.022357509132370234), (4098, 0.005659292757607973), (4099, 0.040255473270527226), (4100, 0.005767238226273671), (4101, 0.0), (4102, 0.027012277109737772), (4103, 0.0330070154930451), (4104, 0.0034062937515979457), (4105, 0.004313557758318419), (4106, 0.017931413642697923), (4107, 0.0), (4108, 0.004300020222507543), (4109, 0.003477150615320161), (4110, 0.0), (4111, 0.004113886835542994), (4112, 0.03930349386186251), (4113, 0.031415587481930934), (4114, 0.03308909441786517), (4115, 0.017690629871427596), (4116, 0.006019168412202823), (4117, 0.004386740720958252), (4118, 0.02110580013587684), (4119, 0.016437320216825424), (4120, 0.0), (4121, 0.02119145332689381), (4122, 0.0068567121496436005), (4123, 0.0), (4124, 0.0), (4125, 0.0039913093745874125), (4126, 0.0), (4127, 0.004664650856591349), (4128, 0.03981332673317451), (4129, 0.0), (4130, 0.02412106657752606), (4131, 0.010020578728005991), (4132, 0.004136439613105465), (4133, 0.0), (4134, 0.0), (4135, 0.05181256607308393), (4136, 0.008801875102701076), (4137, 0.0), (4138, 0.0), (4139, 0.0), (4140, 0.03278889488908715), (4141, 0.0), (4142, 0.01636573618314119), (4143, 0.013293845930866825), (4144, 0.018878827542497388), (4145, 0.0), (4146, 0.024187303650478525), (4147, 0.039038866285004525), (4148, 0.00549941846959007), (4149, 0.0451320329466604), (4150, 0.022735411979195277), (4151, 0.0), (4152, 0.006945398370321623), (4153, 0.01166502984913045), (4154, 0.0), (4155, 0.0), (4156, 0.0033685922130285125), (4157, 0.008279834337606198), (4158, 0.04669826686608697), (4159, 0.0), (4160, 0.044430255488675734), (4161, 0.0), (4162, 0.0), (4163, 0.0), (4164, 0.0), (4165, 0.0), (4166, 0.02746579878833403), (4167, 0.0), (4168, 0.016086560106353287), (4169, 0.0), (4170, 0.0), (4171, 0.0), (4172, 0.0), (4173, 0.029385866635234573), (4174, 0.0035370679194344666), (4175, 0.0), (4176, 0.0), (4177, 0.013946311394198361), (4178, 0.0), (4179, 0.0), (4180, 0.004060991246601973), (4181, 0.014109875912511604), (4182, 0.06381402289081277), (4183, 0.008989169792017684), (4184, 0.00385857082145077), (4185, 0.006191235748869005), (4186, 0.017055662585030856), (4187, 0.0), (4188, 0.0364645906831282), (4189, 0.0), (4190, 0.01466012742074178), (4191, 0.02487843954879545), (4192, 0.003721292322136707), (4193, 0.011641162680487038), (4194, 0.040615597168435796), (4195, 0.06655244552117064), (4196, 0.041574532375397655), (4197, 0.003917613408003697), (4198, 0.005074252752116096), (4199, 0.049952810779204805), (4200, 0.003177258020548833), (4201, 0.0), (4202, 0.007719965730876017), (4203, 0.004454470426623923), (4204, 0.004573880297584475), (4205, 0.0), (4206, 0.003650300620539751), (4207, 0.029807267795297188), (4208, 0.0), (4209, 0.0), (4210, 0.040842119932793144), (4211, 0.06730180148599423), (4212, 0.0), (4213, 0.003654170478049953), (4214, 0.03615162983949896), (4215, 0.0), (4216, 0.0), (4217, 0.033339488675165355), (4218, 0.019144391447602726), (4219, 0.0), (4220, 0.03444551852307847), (4221, 0.030687814083712878), (4222, 0.0051538651640878905), (4223, 0.00589041291427188), (4224, 0.08387613610020542), (4225, 0.0), (4226, 0.00420119701338273), (4227, 0.0), (4228, 0.0), (4229, 0.0), (4230, 0.0), (4231, 0.0), (4232, 0.0), (4233, 0.013988084234552178), (4234, 0.02328746512147299), (4235, 0.0), (4236, 0.011838345675376252), (4237, 0.0034212444064873376), (4238, 0.014937355893228556), (4239, 0.0053091774192248), (4240, 0.0), (4241, 0.0054602514489648325), (4242, 0.010496736408185917), (4243, 0.0), (4244, 0.006324991945903955), (4245, 0.0), (4246, 0.0036385637841700926), (4247, 0.0), (4248, 0.014701553513865958), (4249, 0.04598396075349412), (4250, 0.01581256236526363), (4251, 0.0), (4252, 0.003697367948582304), (4253, 0.0), (4254, 0.00360829338033556), (4255, 0.023267713728387786), (4256, 0.004078025453030902), (4257, 0.003620111391498857), (4258, 0.02259921385001821), (4259, 0.013653737161815964), (4260, 0.004061702860360155), (4261, 0.004096160265237813), (4262, 0.0), (4263, 0.03364005949964396), (4264, 0.0054406694887700995), (4265, 0.009808556970656412), (4266, 0.009352165335367112), (4267, 0.0), (4268, 0.02380235813927356), (4269, 0.0078084267504479965), (4270, 0.03562006198667892), (4271, 0.0), (4272, 0.015789570773584494), (4273, 0.0), (4274, 0.0050624744697731205), (4275, 0.018074021488041433), (4276, 0.037852356094161044), (4277, 0.0), (4278, 0.009189084786344498), (4279, 0.0), (4280, 0.0), (4281, 0.0), (4282, 0.0), (4283, 0.0130483136470603), (4284, 0.0), (4285, 0.010988732094498053), (4286, 0.0), (4287, 0.003970183360484274), (4288, 0.0074063064082059695), (4289, 0.013624361312378855), (4290, 0.0), (4291, 0.0038375016440348876), (4292, 0.006858758551008106), (4293, 0.01044898266628163), (4294, 0.013110412987453184), (4295, 0.004387561847507509), (4296, 0.0), (4297, 0.0035215190811139067), (4298, 0.0), (4299, 0.049161150912727256), (4300, 0.011209502787134736), (4301, 0.0), (4302, 0.0), (4303, 0.03336451270531629), (4304, 0.0034490237068147585), (4305, 0.01976395597381823), (4306, 0.0), (4307, 0.0), (4308, 0.004214272197734954), (4309, 0.0), (4310, 0.005526615535712412), (4311, 0.0031221398376944905), (4312, 0.005931706391960687), (4313, 0.0), (4314, 0.01185254392188696), (4315, 0.004092387119984702), (4316, 0.0), (4317, 0.004357672764785418), (4318, 0.029818129440985237), (4319, 0.003949863772662968), (4320, 0.0), (4321, 0.012482246894127346), (4322, 0.008485961177964909), (4323, 0.027697951474680068), (4324, 0.022632692844761382), (4325, 0.008685342814888818), (4326, 0.0), (4327, 0.027035964424004317), (4328, 0.005157678928418991), (4329, 0.01262142700362643), (4330, 0.017727246985087416), (4331, 0.0), (4332, 0.004169163493007971), (4333, 0.022537240701536915), (4334, 0.0), (4335, 0.004377165427500865), (4336, 0.0), (4337, 0.0), (4338, 0.033082260861491276), (4339, 0.0), (4340, 0.00873868564352784), (4341, 0.04121515921184213), (4342, 0.02176799450658441), (4343, 0.0), (4344, 0.0), (4345, 0.00523693482361896), (4346, 0.09488125018392751), (4347, 0.07537316067457478), (4348, 0.007770127852196106), (4349, 0.02638465249744104), (4350, 0.0), (4351, 0.03726052151632823), (4352, 0.0), (4353, 0.008131882384543175), (4354, 0.0076153151044407895), (4355, 0.0), (4356, 0.011431803060319387), (4357, 0.004096366091197265), (4358, 0.01829974004231058), (4359, 0.0), (4360, 0.03925439288574064), (4361, 0.0), (4362, 0.0), (4363, 0.0), (4364, 0.042928211961148134), (4365, 0.0), (4366, 0.0), (4367, 0.0037240049974722675), (4368, 0.02689698253742941), (4369, 0.0), (4370, 0.0041042454011194366), (4371, 0.013181521960236801), (4372, 0.018838334958775346), (4373, 0.03737735553448558), (4374, 0.0), (4375, 0.041747508332898926), (4376, 0.015162546153508278), (4377, 0.0), (4378, 0.0), (4379, 0.005720304220542827), (4380, 0.008598619733008307), (4381, 0.0), (4382, 0.0037159380662310088), (4383, 0.0), (4384, 0.005847696194405842), (4385, 0.0), (4386, 0.0), (4387, 0.0), (4388, 0.020994914398107526), (4389, 0.019750434735952407), (4390, 0.005737189903966975), (4391, 0.0), (4392, 0.023264963743307318), (4393, 0.006228192251196357), (4394, 0.003813348034594576), (4395, 0.03713652106425308), (4396, 0.009453093760104591), (4397, 0.009403403524058109), (4398, 0.0), (4399, 0.0), (4400, 0.0), (4401, 0.04371593308468323), (4402, 0.03610470112307879), (4403, 0.025528070854828458), (4404, 0.003926137139676738), (4405, 0.01429494271907867), (4406, 0.0), (4407, 0.0), (4408, 0.004613851308559269), (4409, 0.0), (4410, 0.005810210034849868), (4411, 0.0), (4412, 0.0), (4413, 0.004166802615255179), (4414, 0.0070240925245525524), (4415, 0.017416925877411293), (4416, 0.0), (4417, 0.0), (4418, 0.03586561531798983), (4419, 0.013344740644134039), (4420, 0.004052140940913242), (4421, 0.0040115242246183255), (4422, 0.003971231891168367), (4423, 0.0240363800368069), (4424, 0.0), (4425, 0.0), (4426, 0.0033158095652658427), (4427, 0.008439772575612205), (4428, 0.015712976924574552), (4429, 0.004793677924574383), (4430, 0.00578046636263364), (4431, 0.0), (4432, 0.004832403344122958), (4433, 0.004009326252969823), (4434, 0.003681275496593011), (4435, 0.00554736127017602), (4436, 0.005953403997434272), (4437, 0.010370191606186302), (4438, 0.008100473536591846), (4439, 0.011764968615806825), (4440, 0.023827753654429573), (4441, 0.008804080193975916), (4442, 0.003727444439069492), (4443, 0.0067633740785931935), (4444, 0.03006684434426695), (4445, 0.0041446842906123806), (4446, 0.014382555463749929), (4447, 0.016160997065253275), (4448, 0.00401326518695773), (4449, 0.0), (4450, 0.004894133354073757), (4451, 0.0045340773562149925), (4452, 0.004346607348901755), (4453, 0.04077880133436429), (4454, 0.022579657119631977), (4455, 0.03718773575390872), (4456, 0.013182709940070501), (4457, 0.0346170185464103), (4458, 0.0), (4459, 0.0192683412770626), (4460, 0.004356026332496302), (4461, 0.0), (4462, 0.006239165629327004), (4463, 0.004265577746835389), (4464, 0.03725080189981495), (4465, 0.0), (4466, 0.007580254501086236), (4467, 0.00751954612660671), (4468, 0.0), (4469, 0.0), (4470, 0.0), (4471, 0.0), (4472, 0.0), (4473, 0.003346905327461793), (4474, 0.0), (4475, 0.0), (4476, 0.04254463861632555), (4477, 0.02681538046721517), (4478, 0.01681624401274258), (4479, 0.0), (4480, 0.04624899057638992), (4481, 0.005275040602577015), (4482, 0.032889428739856064), (4483, 0.014663333990437932), (4484, 0.01748067443637708), (4485, 0.0), (4486, 0.01931237627472322), (4487, 0.05631755904747628), (4488, 0.0), (4489, 0.004075742633554313), (4490, 0.030299985175425936), (4491, 0.013928217300498421), (4492, 0.047280334424610146), (4493, 0.013863009371722242), (4494, 0.0), (4495, 0.0), (4496, 0.004398590388373696), (4497, 0.0), (4498, 0.00629867972871472), (4499, 0.0), (4500, 0.011166233077300905), (4501, 0.015891108107555924), (4502, 0.0), (4503, 0.005568110813775068), (4504, 0.0), (4505, 0.0), (4506, 0.025399942555433486), (4507, 0.004413989097140625), (4508, 0.027866266078969096), (4509, 0.012670910236009972), (4510, 0.0), (4511, 0.0), (4512, 0.0), (4513, 0.02005318755667077), (4514, 0.004648243840705432), (4515, 0.009402052439965556), (4516, 0.018036364388957532), (4517, 0.0), (4518, 0.0), (4519, 0.03326908507375451), (4520, 0.0480976423179837), (4521, 0.0), (4522, 0.004187883862682324), (4523, 0.00696379068456981), (4524, 0.0), (4525, 0.015176414643195966), (4526, 0.03524649564221152), (4527, 0.0), (4528, 0.0), (4529, 0.03783521097312297), (4530, 0.003758318683107469), (4531, 0.02958973517093712), (4532, 0.026550000027356663), (4533, 0.007450347362535071), (4534, 0.005369703132440331), (4535, 0.008147918672237998), (4536, 0.0), (4537, 0.005002329640529922), (4538, 0.0), (4539, 0.0), (4540, 0.0), (4541, 0.0), (4542, 0.02018474501693788), (4543, 0.035993761099693246), (4544, 0.0), (4545, 0.0100295439929887), (4546, 0.0), (4547, 0.0), (4548, 0.0), (4549, 0.01640609261628644), (4550, 0.012409502950552254), (4551, 0.0), (4552, 0.003983267182037215), (4553, 0.004827578066624357), (4554, 0.011016992789333439), (4555, 0.028660106671635148), (4556, 0.012024867361049449), (4557, 0.03614560125597627), (4558, 0.03127189531272199), (4559, 0.02452057112594036), (4560, 0.004086757001453201), (4561, 0.0), (4562, 0.023623594843875426), (4563, 0.0), (4564, 0.016025458725969822), (4565, 0.036623317255541445), (4566, 0.0), (4567, 0.016660209796229314), (4568, 0.005160445037768039), (4569, 0.04199190336127901), (4570, 0.04153398742976549), (4571, 0.00610643825780024), (4572, 0.0), (4573, 0.005352167318231529), (4574, 0.009923564446500862), (4575, 0.028390591358519183), (4576, 0.016931107300060817), (4577, 0.012038256641863785), (4578, 0.0), (4579, 0.0), (4580, 0.004288272767509516), (4581, 0.0933216542827213), (4582, 0.0), (4583, 0.02414649243080649), (4584, 0.0), (4585, 0.0), (4586, 0.005748981856738286), (4587, 0.0), (4588, 0.059654438069779894), (4589, 0.025830623514816946), (4590, 0.013242815091498019), (4591, 0.005134850373300721), (4592, 0.02379763647108905), (4593, 0.0), (4594, 0.0), (4595, 0.0), (4596, 0.0033870119368442104), (4597, 0.0063968785038264865), (4598, 0.006628687840215562), (4599, 0.03977040145877056), (4600, 0.03511225143369822), (4601, 0.0), (4602, 0.0), (4603, 0.003584644272599), (4604, 0.00849489430809755), (4605, 0.0), (4606, 0.006989600066539769), (4607, 0.0), (4608, 0.013123939954387251), (4609, 0.05607249263572266), (4610, 0.003225211570327015), (4611, 0.0), (4612, 0.03647172336904775), (4613, 0.049928706693662644), (4614, 0.03248056410474172), (4615, 0.0), (4616, 0.0), (4617, 0.0), (4618, 0.0), (4619, 0.02437709958636458), (4620, 0.0), (4621, 0.0), (4622, 0.004079157627939638), (4623, 0.0), (4624, 0.027997865544257317), (4625, 0.0), (4626, 0.01034925746431402), (4627, 0.05580855642053368), (4628, 0.007932912843505672), (4629, 0.005759478796718969), (4630, 0.006191440911874879), (4631, 0.011371163794368498), (4632, 0.0), (4633, 0.004516240301832463), (4634, 0.05943507648380628), (4635, 0.0), (4636, 0.0032407053619935362), (4637, 0.023766025241239285), (4638, 0.0), (4639, 0.0), (4640, 0.0166036507731677), (4641, 0.04311053927766418), (4642, 0.006515506742645802), (4643, 0.04158313032887378), (4644, 0.0), (4645, 0.0), (4646, 0.007039303828370827), (4647, 0.008467411632946797), (4648, 0.003974299635027589), (4649, 0.0050702881734301505), (4650, 0.004428692228370492), (4651, 0.0), (4652, 0.0029373235208823307), (4653, 0.0067501853222289845), (4654, 0.0), (4655, 0.004067618028733667), (4656, 0.0059534630098703285), (4657, 0.03882624279439325), (4658, 0.008910199147696), (4659, 0.015959217196999127), (4660, 0.0), (4661, 0.004893916241612394), (4662, 0.024994383839866227), (4663, 0.0074489815385210415), (4664, 0.0), (4665, 0.0), (4666, 0.007474530425848628), (4667, 0.003593743105034045), (4668, 0.0), (4669, 0.0), (4670, 0.0), (4671, 0.0), (4672, 0.04582978446901709), (4673, 0.03372266772256914), (4674, 0.0), (4675, 0.07562683529857762), (4676, 0.030364066880631698), (4677, 0.018735128422686907), (4678, 0.04051609992170355), (4679, 0.008148138368690208), (4680, 0.0), (4681, 0.0), (4682, 0.022271793162248383), (4683, 0.03917758493761803), (4684, 0.036585963997836736), (4685, 0.0), (4686, 0.0), (4687, 0.0), (4688, 0.09190804676942074), (4689, 0.0), (4690, 0.008781494362860333), (4691, 0.0), (4692, 0.0), (4693, 0.0), (4694, 0.0), (4695, 0.0), (4696, 0.0), (4697, 0.0), (4698, 0.006661112895267508), (4699, 0.018699018482132714), (4700, 0.005203347282833445), (4701, 0.061828248084361964), (4702, 0.0039022525194446914), (4703, 0.01371964396823382), (4704, 0.0), (4705, 0.007893630452341212), (4706, 0.0042694095780860105), (4707, 0.0), (4708, 0.021925266820563793), (4709, 0.0075044622425405215), (4710, 0.011715108352720941), (4711, 0.014507846327309216), (4712, 0.0), (4713, 0.0), (4714, 0.0), (4715, 0.0), (4716, 0.005722075918705411), (4717, 0.0045376190851608225), (4718, 0.009476111674888966), (4719, 0.007442823276782002), (4720, 0.00466428083948966), (4721, 0.02540949198867674), (4722, 0.0), (4723, 0.031238773944918058), (4724, 0.0), (4725, 0.011430834907099332), (4726, 0.018312368209727283), (4727, 0.005931031174525989), (4728, 0.0), (4729, 0.0), (4730, 0.033924021610291226), (4731, 0.01876412944417864), (4732, 0.03473663954626397), (4733, 0.004606671247536197), (4734, 0.004152977666950483), (4735, 0.0), (4736, 0.0), (4737, 0.013937530093309464), (4738, 0.003841144971987008), (4739, 0.011258519457359806), (4740, 0.010969139537083627), (4741, 0.006291352289631039), (4742, 0.014211053397415898), (4743, 0.005386972441582793), (4744, 0.003115254162439387), (4745, 0.005695514821570808), (4746, 0.004358670362295747), (4747, 0.00635397978243233), (4748, 0.0), (4749, 0.0), (4750, 0.0), (4751, 0.0), (4752, 0.010593555256374062), (4753, 0.03458512741119626), (4754, 0.04303292598911901), (4755, 0.0), (4756, 0.012758785088362746), (4757, 0.0), (4758, 0.09045502441824411), (4759, 0.0)]\n"
          ]
        }
      ]
    },
    {
      "cell_type": "code",
      "source": [
        "Movie_Name = input('Enter your favorite movie name: ')\n",
        "\n",
        "list_of_all_titles = df['Movie_Title'].tolist()\n",
        "\n",
        "Find_Close_Match = difflib.get_close_matches(Movie_Name, list_of_all_titles)\n",
        "\n",
        "Close_Match = Find_Close_Match[0]\n",
        "\n",
        "Index_of_Movie = df[df.Movie_Title == Close_Match]['Movie_ID'].values[0]\n",
        "\n",
        "Recommendation_Score = list(enumerate(Similarity_score[Index_of_Movie]))\n",
        "\n",
        "sorted_similar_movies = sorted(Recommendation_Score, key = lambda x:x[1], reverse = True)\n",
        "\n",
        "print('Top 10 Movies suggested for you : \\n')\n",
        "\n",
        "i = 1\n",
        "\n",
        "for movie in sorted_similar_movies:\n",
        "    index = movie[0]\n",
        "    title_from_index = df[df.Movie_ID==index]['Movie_Title'].values\n",
        "    if (i<11):\n",
        "        print(i,'.',title_from_index)\n",
        "        i+=1"
      ],
      "metadata": {
        "colab": {
          "base_uri": "https://localhost:8080/"
        },
        "id": "u3L5L8Qp0WCZ",
        "outputId": "179036a1-61d1-42c9-e028-23c3c46dca29"
      },
      "execution_count": 67,
      "outputs": [
        {
          "output_type": "stream",
          "name": "stdout",
          "text": [
            "Enter your favorite movie name: house of dragon\n",
            "Top 10 Movies suggested for you : \n",
            "\n",
            "1 . ['The House of Sand']\n",
            "2 . ['X-Men: First Class']\n",
            "3 . ['Tropic Thunder']\n",
            "4 . ['Iron Man 3']\n",
            "5 . ['Blow Out']\n",
            "6 . ['Invasion U.S.A.']\n",
            "7 . ['Assassins']\n",
            "8 . ['The Golden Child']\n",
            "9 . ['The Place Beyond the Pines']\n",
            "10 . ['The Work and The Story']\n"
          ]
        }
      ]
    }
  ]
}